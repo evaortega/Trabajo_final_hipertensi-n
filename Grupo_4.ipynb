{
 "cells": [
  {
   "cell_type": "markdown",
   "id": "3a46ce33",
   "metadata": {},
   "source": [
    "**Grupo 4: Griselda Itovich, Agustin Helou, Maria Eva Ortega**"
   ]
  },
  {
   "cell_type": "markdown",
   "id": "da1b2206",
   "metadata": {},
   "source": [
    "<a id='Volver_indice'></a>"
   ]
  },
  {
   "cell_type": "markdown",
   "id": "fb379e5e",
   "metadata": {},
   "source": [
    "**Indice del Trabajo Integrador Final como clasificador binario de riesgo de hipertensión:**"
   ]
  },
  {
   "cell_type": "markdown",
   "id": "f3a0c082",
   "metadata": {},
   "source": [
    "[Sección 0](#section0):  Introducción y resumen del trabajo\n",
    "<a href='#section0'></a> "
   ]
  },
  {
   "cell_type": "markdown",
   "id": "462c65f2",
   "metadata": {},
   "source": [
    "[Sección 1](#section1):  Importación de librerías\n",
    "<a href='#section1'></a> "
   ]
  },
  {
   "cell_type": "markdown",
   "id": "2942e3f0",
   "metadata": {},
   "source": [
    "[Sección 2](#section2):  Análisis descriptivo del dataset y eliminación de outliers. Determinación de dataset filtrado para determinación de riesgo de hipertensión\n",
    "<a href='#section2'></a> "
   ]
  },
  {
   "cell_type": "markdown",
   "id": "c621503e",
   "metadata": {},
   "source": [
    "[Sección 3](#section3): Bagging de modelos: Random Forest. Importancia de features: Feature Importance, SelectKbest. RFECV <br/>\n",
    "\n",
    "\n",
    "1.   Modelo_1: Random Forest con GridSearchCV.\n",
    "2.   Modelo_2: Random Forest best (Comprobacion vs Modelo_1).\n",
    "3.   Feature importance con Random Forest best.\n",
    "4.   Modelo_3: Random Forest con reducción de features, según Paso 3.\n",
    "5.   Feature importance con SelectKbest.\n",
    "6.   Feature importance con RFECV.\n",
    "7.   Modelo_4: Random Forest con reducción de features, según Paso 6.\n",
    "8.   Evaluación de métricas de los modelos: accuracy, precision, f1_score, recall, confusion matrix, AUC, roc_curve.\n",
    "<a href='#section3'></a> "
   ]
  },
  {
   "cell_type": "markdown",
   "id": "edbc30eb",
   "metadata": {},
   "source": [
    "[Sección 4](#section4):  Boosting\n",
    "<a href='#section4'></a> \n",
    "1. Modelo_5: AdaBoosting con GridSearchCV\n",
    "2. Modelo_6: GradientBoosting con GridSearchCV\n",
    "3. Modelo_7: ExtremeGradientBoosting con GridSearchCV\n",
    "4. Modelo_8: LightGradientBoosting con GridSearchCV\n",
    "5. Evaluacion de métricas de modelos (como en la Sección 3)"
   ]
  },
  {
   "cell_type": "markdown",
   "id": "7b128d88",
   "metadata": {},
   "source": [
    "[Sección 5](#section5): Pipelines\n",
    "<a href='#section5'></a> \n",
    "1. Modelo_9: Pipeline básico con escalado y RandomForest\n",
    "2. Modelo_10: Pipeline con escalado y RandomForest, con GridSearchCV\n",
    "3. Modelo_11: Pipeline con dos escaladores y RandomForest, con GridSearchCV\n",
    "4. Modelo_12: Pipeline con seleccion de features, escalado y RandomForest con GridSearchCV\n",
    "5. Modelo_13: Pipeline básico con una columna auxiliar, escalado, Regresion Logística\n",
    "6. Modelo_14: Pipeline Modelo_13 con GridSearchCV\n",
    "7. Evaluación de métricas de modelos (como en la Sección 3)\n"
   ]
  },
  {
   "cell_type": "markdown",
   "id": "19f655cf",
   "metadata": {},
   "source": [
    "[Sección 6](#section6): Deploy de modelos\n",
    "<a href='#section6'></a> "
   ]
  },
  {
   "cell_type": "markdown",
   "id": "d7f5b0be",
   "metadata": {},
   "source": [
    "[Sección 7](#section7): Conclusiones\n",
    "<a href='#section7'></a> "
   ]
  },
  {
   "cell_type": "markdown",
   "id": "2a7b3f34",
   "metadata": {},
   "source": [
    "<a id='section0'></a>\n",
    "### Sección 0\n"
   ]
  },
  {
   "cell_type": "markdown",
   "id": "85b6b5eb",
   "metadata": {},
   "source": [
    "<div class=\"alert alert- block alert-info\">\n",
    " Para abordar la clasificación binaria de riesgo de pacientes, como hipertensos o no hipertensos se eligieron columnas del dataset vinculadas con dicha patología. Las variables elegidas se seleccionaron teniendo en cuenta el artículo [1], donde se puede encontrar una amplia reseña de trabajos de determinación de pacientes con y sin hipertensión empleando métodos de Machine Learning, ya sea por medio de regresión lineal o bien clasificación. También se han consultado publicaciones del tema como [2], que predicen empleando métodos del machine learning profundo (deep learning) como redes neuronales. La base de datos con la que se trabajo fue provista por el Ministerio de Salud de la Pcia. de Neuquén y cuenta con alrededor de 60000 registros de pacientes, asistentes a consultas en hospitales públicos de distintas localizaciones, durante los años 2019, 2020 y 2021.  \n",
    "       </div>"
   ]
  },
  {
   "cell_type": "markdown",
   "id": "5cfbde15",
   "metadata": {},
   "source": [
    "<div class=\"alert alert- block alert-info\">\n",
    "   Referencias:<br />\n",
    "[1] Martinez Ríos, E., Montesinos L., Alfaro-Ponce, M., Pecchia, L. A review of machine learning in hypertension detection and blood pressure estimation based on clinical and physiological data, Biomedical Signal Processing and Control 68 (2021) 102813.<br />\n",
    "[2] LaFreniere, D., Zulkernine, F., Barber, D., Martin, K. Using Machine Learning to Predict Hypertension from a Clinical Dataset, IEEE Symposium on Computational Intelligence (SSCI) (2016).</div>"
   ]
  },
  {
   "cell_type": "markdown",
   "id": "b400e2f8",
   "metadata": {},
   "source": [
    "<div class=\"alert alert- block alert-info\">\n",
    "   En primer lugar se comienza por analizar el dataset, efectuar una limpieza y eliminación de outliers. Posteriormente, se efectúan diferentes pruebas probando con diferentes modelos de clasificacion y para determinar los aspectos (features) más importantes a considerar para la determinacion que se busca, con distintas metodologías. Para esta tarea se elige como estimador RandomForestClassifier, en combinación con el método feature_importance y la librería RFECV, por destacar algunos procedimientos, para construir otros modelos partiendo del analisis de features. Tambien se aplican pruebas de selección de features, univariados como SelectKbest. Posteriormente, se aplican métodos de boosting, como AdaBoosting, GradientBoosting, ExtremeGradientBoosting y LightGradientBoosting, siempre en combinación con GridSearchCV, para la determinacion de riesgo de hipertensión. En todos los casos, se evalúan las métricas de los modelos. Por último en cuanto al análisis de modelos, se efectuan implementaciones con pipelines, mejorando algunos de los ya analizados y proponiendo algunos nuevos. Como punto final del análisis efectuado, se realiza el deploy de uno de los mejores modelos hallados, segun métricas, usando Pickle. Por último, se dan algunas conclusiones.\n",
    "       </div>\n",
    "       "
   ]
  },
  {
   "cell_type": "markdown",
   "id": "7facff39",
   "metadata": {},
   "source": [
    "[Volver al índice](#Volver_indice)\n",
    "<a href='#Volver_indice'></a> "
   ]
  },
  {
   "cell_type": "markdown",
   "id": "d502fd76",
   "metadata": {},
   "source": [
    "<a id='section1'></a>\n",
    "### Sección 1"
   ]
  },
  {
   "cell_type": "markdown",
   "id": "8ca48e61",
   "metadata": {},
   "source": [
    "***Importación de librerías***"
   ]
  },
  {
   "cell_type": "code",
   "execution_count": 1,
   "id": "c443b826",
   "metadata": {},
   "outputs": [],
   "source": [
    "#importación de librerías básicas\n",
    "\n",
    "import pandas as pd\n",
    "import numpy as np\n",
    "import matplotlib.pyplot as plt\n",
    "import seaborn as sns\n",
    "import warnings\n",
    "warnings.filterwarnings('ignore')\n",
    "import datetime\n",
    "\n",
    "# importación de librerias para análisis de modelos y métricas\n",
    "\n",
    "from sklearn.model_selection import train_test_split, GridSearchCV, cross_val_score, StratifiedKFold\n",
    "from sklearn.preprocessing import StandardScaler, MinMaxScaler\n",
    "\n",
    "from sklearn.metrics import classification_report, accuracy_score, recall_score, precision_score, f1_score, confusion_matrix, roc_curve, roc_auc_score, auc\n",
    "\n",
    "from sklearn.feature_selection import SelectKBest, f_classif, RFECV, RFE, chi2\n",
    "\n",
    "from sklearn.linear_model import LogisticRegression\n",
    "from sklearn.tree import DecisionTreeClassifier\n",
    "from sklearn.ensemble import RandomForestClassifier, AdaBoostClassifier, GradientBoostingClassifier\n",
    "from xgboost.sklearn import XGBClassifier\n",
    "import lightgbm as lgb\n",
    "from lightgbm import LGBMClassifier\n",
    "\n",
    "from sklearn.compose import ColumnTransformer\n",
    "from sklearn.pipeline import Pipeline, make_pipeline\n",
    "from sklearn.base import BaseEstimator, TransformerMixin\n",
    "\n",
    "import pickle\n",
    "import os\n"
   ]
  },
  {
   "cell_type": "markdown",
   "id": "d443bbab",
   "metadata": {},
   "source": [
    "[Volver al índice](#Volver_indice)\n",
    "<a href='#Volver_indice'></a> "
   ]
  },
  {
   "cell_type": "markdown",
   "id": "4679f2d2",
   "metadata": {},
   "source": [
    "<a id='section2'></a>\n",
    "### Sección 2\n"
   ]
  },
  {
   "cell_type": "markdown",
   "id": "eb8734fd",
   "metadata": {},
   "source": [
    "***Análisis descriptivo del dataset***"
   ]
  },
  {
   "cell_type": "code",
   "execution_count": 2,
   "id": "247c9b59",
   "metadata": {},
   "outputs": [
    {
     "name": "stdout",
     "output_type": "stream",
     "text": [
      "Columnas iniciales que se consideran para predecir hipertensión:\n",
      " Index(['TAS', 'TAD', 'UTMO_IMC', 'CLEARANCE', 'COLESTEROL_TOTAL', 'EDAD',\n",
      "       'SEXO_MASCULINO', 'DIABETES_DM2', 'DIABETES_NO', 'DISLIPEMIA_SI',\n",
      "       'OBESIDAD_SI', 'CLASIFICACION_IMC_NORMAL', 'CLASIFICACION_IMC_OBESIDAD',\n",
      "       'CLASIFICACION_IMC_SOBREPESO', 'ENF.CARDIOVASCULAR_ESTABLECIDA_SI',\n",
      "       'HIPERTENSION_SI'],\n",
      "      dtype='object')\n",
      "\n",
      "Dimensiones del dataset filtrado inicial para analizar: (11995, 16)\n",
      "\n",
      "Porcentaje de no hipertensos: 0.632\n",
      "\n",
      "Porcentaje de hipertensos: 0.368\n"
     ]
    }
   ],
   "source": [
    "#%%time\n",
    "data_cruda = pd.read_csv('para_ejercitacion_con_RCVG_1.csv', sep =';', encoding = 'utf_8')\n",
    "\n",
    "data  = data_cruda\n",
    "\n",
    "# Elimino posibles duplicados\n",
    "data = data.drop_duplicates()\n",
    "\n",
    "# Adecuacion fechas auxiliar\n",
    "now = datetime.datetime.now()\n",
    "\n",
    "# Adecuacion de columnas y cambios de nombres en columnas\n",
    "data['EDAD'] = (now - pd.to_datetime(data['FECHA DE NACIMIENTO'])).astype('<m8[Y]') \n",
    "data.rename(columns = {'ENF. CARDIOVASCULAR ESTABLECIDA':'ENF.CARDIOVASCULAR_ESTABLECIDA'},inplace = True)\n",
    "\n",
    "data['LOCALIDAD']=data['LOCALIDAD'].str.upper()\n",
    "data.LOCALIDAD[data.LOCALIDAD=='NEUQUÉN']='NEUQUEN'\n",
    "\n",
    "\n",
    "# df va a ser el dataset que se va a utilizar para deterinar riesgo hipertension con seleccion de columnas\n",
    "df = data[['TAS','TAD','SEXO', 'DIABETES', 'DISLIPEMIA', 'OBESIDAD','UTMO_IMC', 'CLASIFICACION_IMC', 'CLEARANCE','COLESTEROL_TOTAL','EDAD','ENF.CARDIOVASCULAR_ESTABLECIDA','HIPERTENSION']]\n",
    "\n",
    "# se eliminan registros con nans\n",
    "df = df.dropna()\n",
    "\n",
    "# se transforman en dummies columnas categóricas seleccionadas para la predicción \n",
    "df = pd.get_dummies(df, prefix = ['SEXO', 'DIABETES', 'DISLIPEMIA', 'OBESIDAD', 'CLASIFICACION_IMC','ENF.CARDIOVASCULAR_ESTABLECIDA','HIPERTENSION'], columns=['SEXO', 'DIABETES', 'DISLIPEMIA', 'OBESIDAD','CLASIFICACION_IMC','ENF.CARDIOVASCULAR_ESTABLECIDA','HIPERTENSION'],drop_first = True)\n",
    "\n",
    "#información general resumen\n",
    "print('Columnas iniciales que se consideran para predecir hipertensión:\\n', df.columns)\n",
    "print('\\nDimensiones del dataset filtrado inicial para analizar:',  df.shape)\n",
    "\n",
    "print('\\nPorcentaje de no hipertensos:', round(df.HIPERTENSION_SI.value_counts(normalize=True)[0],3))\n",
    "print('\\nPorcentaje de hipertensos:', round(df.HIPERTENSION_SI.value_counts(normalize=True)[1],3))\n",
    "\n"
   ]
  },
  {
   "cell_type": "code",
   "execution_count": 3,
   "id": "fcf07f2b",
   "metadata": {},
   "outputs": [
    {
     "name": "stdout",
     "output_type": "stream",
     "text": [
      "Cantidad de registros de pacientes según localidad neuquina\n"
     ]
    },
    {
     "data": {
      "image/png": "[encoded data removed]",
      "text/plain": [
       "<Figure size 432x288 with 1 Axes>"
      ]
     },
     "metadata": {},
     "output_type": "display_data"
    },
    {
     "data": {
      "text/plain": [
       "(59965, 51)"
      ]
     },
     "execution_count": 3,
     "metadata": {},
     "output_type": "execute_result"
    },
    {
     "data": {
      "text/plain": [
       "<Figure size 432x288 with 0 Axes>"
      ]
     },
     "metadata": {},
     "output_type": "display_data"
    }
   ],
   "source": [
    "serie_aux = data.LOCALIDAD.value_counts()\n",
    "valores = serie_aux[:8].values.tolist()\n",
    "valores.append(serie_aux[8:].sum())\n",
    "valores\n",
    "\n",
    "labels = serie_aux[:8].index.tolist()\n",
    "labels.append('Otros')\n",
    "labels\n",
    "\n",
    "print ('Cantidad de registros de pacientes según localidad neuquina')\n",
    "plt.pie(valores,labels = labels)\n",
    "plt.show()\n",
    "plt.savefig('torta_ciudades.PNG')\n",
    "plt.savefig(\"torta_ciudades.pdf\")\n",
    "serie_aux[:10].sum()\n",
    "data.shape"
   ]
  },
  {
   "cell_type": "code",
   "execution_count": 4,
   "id": "30519b71",
   "metadata": {},
   "outputs": [
    {
     "data": {
      "image/png": "[encoded data removed]",
      "text/plain": [
       "<Figure size 432x288 with 2 Axes>"
      ]
     },
     "metadata": {
      "needs_background": "light"
     },
     "output_type": "display_data"
    }
   ],
   "source": [
    "#matriz de correlación general de df\n",
    "sns.heatmap(df.corr(),square = True);"
   ]
  },
  {
   "cell_type": "code",
   "execution_count": 5,
   "id": "d19bf2f9",
   "metadata": {},
   "outputs": [
    {
     "data": {
      "text/plain": [
       "Text(0.5, 1.0, 'Correlación entre aspectos predictores seleccionados e Hipertensión')"
      ]
     },
     "execution_count": 5,
     "metadata": {},
     "output_type": "execute_result"
    },
    {
     "data": {
      "image/png": "[encoded data removed]",
      "text/plain": [
       "<Figure size 432x288 with 1 Axes>"
      ]
     },
     "metadata": {
      "needs_background": "light"
     },
     "output_type": "display_data"
    }
   ],
   "source": [
    "# correlación de las columnas de train de df con la de test (target = HIPERTENSION_SI)\n",
    "correlacion_target = abs(df.corr()['HIPERTENSION_SI'])\n",
    "#print(type(correlacion_target))\n",
    "mask=(correlacion_target > 0.15) & (correlacion_target < 1)\n",
    "correlacion_target = correlacion_target[mask]\n",
    "correlacion_target.plot.bar()\n",
    "plt.title(\"Correlación entre aspectos predictores seleccionados e Hipertensión\",loc ='center')"
   ]
  },
  {
   "cell_type": "code",
   "execution_count": 6,
   "id": "dceb625c",
   "metadata": {},
   "outputs": [
    {
     "data": {
      "text/html": [
       "<div>\n",
       "<style scoped>\n",
       "    .dataframe tbody tr th:only-of-type {\n",
       "        vertical-align: middle;\n",
       "    }\n",
       "\n",
       "    .dataframe tbody tr th {\n",
       "        vertical-align: top;\n",
       "    }\n",
       "\n",
       "    .dataframe thead th {\n",
       "        text-align: right;\n",
       "    }\n",
       "</style>\n",
       "<table border=\"1\" class=\"dataframe\">\n",
       "  <thead>\n",
       "    <tr style=\"text-align: right;\">\n",
       "      <th></th>\n",
       "      <th>TAS</th>\n",
       "      <th>TAD</th>\n",
       "      <th>UTMO_IMC</th>\n",
       "      <th>CLEARANCE</th>\n",
       "      <th>COLESTEROL_TOTAL</th>\n",
       "      <th>EDAD</th>\n",
       "      <th>SEXO_MASCULINO</th>\n",
       "      <th>DIABETES_DM2</th>\n",
       "      <th>DIABETES_NO</th>\n",
       "      <th>DISLIPEMIA_SI</th>\n",
       "      <th>OBESIDAD_SI</th>\n",
       "      <th>CLASIFICACION_IMC_NORMAL</th>\n",
       "      <th>CLASIFICACION_IMC_OBESIDAD</th>\n",
       "      <th>CLASIFICACION_IMC_SOBREPESO</th>\n",
       "      <th>ENF.CARDIOVASCULAR_ESTABLECIDA_SI</th>\n",
       "      <th>HIPERTENSION_SI</th>\n",
       "    </tr>\n",
       "  </thead>\n",
       "  <tbody>\n",
       "    <tr>\n",
       "      <th>count</th>\n",
       "      <td>11995.000000</td>\n",
       "      <td>11995.000000</td>\n",
       "      <td>11995.000000</td>\n",
       "      <td>11995.000000</td>\n",
       "      <td>11995.000000</td>\n",
       "      <td>11995.000000</td>\n",
       "      <td>11995.000000</td>\n",
       "      <td>11995.000000</td>\n",
       "      <td>11995.000000</td>\n",
       "      <td>11995.000000</td>\n",
       "      <td>11995.000000</td>\n",
       "      <td>11995.000000</td>\n",
       "      <td>11995.000000</td>\n",
       "      <td>11995.000000</td>\n",
       "      <td>11995.000000</td>\n",
       "      <td>11995.000000</td>\n",
       "    </tr>\n",
       "    <tr>\n",
       "      <th>mean</th>\n",
       "      <td>125.016924</td>\n",
       "      <td>77.296207</td>\n",
       "      <td>33.876969</td>\n",
       "      <td>97.810954</td>\n",
       "      <td>183.751582</td>\n",
       "      <td>48.943560</td>\n",
       "      <td>0.312547</td>\n",
       "      <td>0.315882</td>\n",
       "      <td>0.678116</td>\n",
       "      <td>0.120550</td>\n",
       "      <td>0.739808</td>\n",
       "      <td>0.070279</td>\n",
       "      <td>0.729554</td>\n",
       "      <td>0.194164</td>\n",
       "      <td>0.024010</td>\n",
       "      <td>0.368404</td>\n",
       "    </tr>\n",
       "    <tr>\n",
       "      <th>std</th>\n",
       "      <td>29.247829</td>\n",
       "      <td>18.169841</td>\n",
       "      <td>6.931371</td>\n",
       "      <td>31.151028</td>\n",
       "      <td>43.530877</td>\n",
       "      <td>18.590106</td>\n",
       "      <td>0.463551</td>\n",
       "      <td>0.464885</td>\n",
       "      <td>0.467218</td>\n",
       "      <td>0.325617</td>\n",
       "      <td>0.438757</td>\n",
       "      <td>0.255628</td>\n",
       "      <td>0.444209</td>\n",
       "      <td>0.395572</td>\n",
       "      <td>0.153087</td>\n",
       "      <td>0.482392</td>\n",
       "    </tr>\n",
       "    <tr>\n",
       "      <th>min</th>\n",
       "      <td>11.000000</td>\n",
       "      <td>7.000000</td>\n",
       "      <td>4.030000</td>\n",
       "      <td>0.160000</td>\n",
       "      <td>0.000000</td>\n",
       "      <td>4.000000</td>\n",
       "      <td>0.000000</td>\n",
       "      <td>0.000000</td>\n",
       "      <td>0.000000</td>\n",
       "      <td>0.000000</td>\n",
       "      <td>0.000000</td>\n",
       "      <td>0.000000</td>\n",
       "      <td>0.000000</td>\n",
       "      <td>0.000000</td>\n",
       "      <td>0.000000</td>\n",
       "      <td>0.000000</td>\n",
       "    </tr>\n",
       "    <tr>\n",
       "      <th>25%</th>\n",
       "      <td>110.000000</td>\n",
       "      <td>70.000000</td>\n",
       "      <td>29.590000</td>\n",
       "      <td>78.270000</td>\n",
       "      <td>154.000000</td>\n",
       "      <td>35.000000</td>\n",
       "      <td>0.000000</td>\n",
       "      <td>0.000000</td>\n",
       "      <td>0.000000</td>\n",
       "      <td>0.000000</td>\n",
       "      <td>0.000000</td>\n",
       "      <td>0.000000</td>\n",
       "      <td>0.000000</td>\n",
       "      <td>0.000000</td>\n",
       "      <td>0.000000</td>\n",
       "      <td>0.000000</td>\n",
       "    </tr>\n",
       "    <tr>\n",
       "      <th>50%</th>\n",
       "      <td>120.000000</td>\n",
       "      <td>80.000000</td>\n",
       "      <td>33.080000</td>\n",
       "      <td>95.990000</td>\n",
       "      <td>180.000000</td>\n",
       "      <td>51.000000</td>\n",
       "      <td>0.000000</td>\n",
       "      <td>0.000000</td>\n",
       "      <td>1.000000</td>\n",
       "      <td>0.000000</td>\n",
       "      <td>1.000000</td>\n",
       "      <td>0.000000</td>\n",
       "      <td>1.000000</td>\n",
       "      <td>0.000000</td>\n",
       "      <td>0.000000</td>\n",
       "      <td>0.000000</td>\n",
       "    </tr>\n",
       "    <tr>\n",
       "      <th>75%</th>\n",
       "      <td>140.000000</td>\n",
       "      <td>83.000000</td>\n",
       "      <td>37.640000</td>\n",
       "      <td>113.545000</td>\n",
       "      <td>210.000000</td>\n",
       "      <td>63.000000</td>\n",
       "      <td>1.000000</td>\n",
       "      <td>1.000000</td>\n",
       "      <td>1.000000</td>\n",
       "      <td>0.000000</td>\n",
       "      <td>1.000000</td>\n",
       "      <td>0.000000</td>\n",
       "      <td>1.000000</td>\n",
       "      <td>0.000000</td>\n",
       "      <td>0.000000</td>\n",
       "      <td>1.000000</td>\n",
       "    </tr>\n",
       "    <tr>\n",
       "      <th>max</th>\n",
       "      <td>1580.000000</td>\n",
       "      <td>802.000000</td>\n",
       "      <td>78.490000</td>\n",
       "      <td>299.960000</td>\n",
       "      <td>593.000000</td>\n",
       "      <td>101.000000</td>\n",
       "      <td>1.000000</td>\n",
       "      <td>1.000000</td>\n",
       "      <td>1.000000</td>\n",
       "      <td>1.000000</td>\n",
       "      <td>1.000000</td>\n",
       "      <td>1.000000</td>\n",
       "      <td>1.000000</td>\n",
       "      <td>1.000000</td>\n",
       "      <td>1.000000</td>\n",
       "      <td>1.000000</td>\n",
       "    </tr>\n",
       "  </tbody>\n",
       "</table>\n",
       "</div>"
      ],
      "text/plain": [
       "                TAS           TAD      UTMO_IMC     CLEARANCE  \\\n",
       "count  11995.000000  11995.000000  11995.000000  11995.000000   \n",
       "mean     125.016924     77.296207     33.876969     97.810954   \n",
       "std       29.247829     18.169841      6.931371     31.151028   \n",
       "min       11.000000      7.000000      4.030000      0.160000   \n",
       "25%      110.000000     70.000000     29.590000     78.270000   \n",
       "50%      120.000000     80.000000     33.080000     95.990000   \n",
       "75%      140.000000     83.000000     37.640000    113.545000   \n",
       "max     1580.000000    802.000000     78.490000    299.960000   \n",
       "\n",
       "       COLESTEROL_TOTAL          EDAD  SEXO_MASCULINO  DIABETES_DM2  \\\n",
       "count      11995.000000  11995.000000    11995.000000  11995.000000   \n",
       "mean         183.751582     48.943560        0.312547      0.315882   \n",
       "std           43.530877     18.590106        0.463551      0.464885   \n",
       "min            0.000000      4.000000        0.000000      0.000000   \n",
       "25%          154.000000     35.000000        0.000000      0.000000   \n",
       "50%          180.000000     51.000000        0.000000      0.000000   \n",
       "75%          210.000000     63.000000        1.000000      1.000000   \n",
       "max          593.000000    101.000000        1.000000      1.000000   \n",
       "\n",
       "        DIABETES_NO  DISLIPEMIA_SI   OBESIDAD_SI  CLASIFICACION_IMC_NORMAL  \\\n",
       "count  11995.000000   11995.000000  11995.000000              11995.000000   \n",
       "mean       0.678116       0.120550      0.739808                  0.070279   \n",
       "std        0.467218       0.325617      0.438757                  0.255628   \n",
       "min        0.000000       0.000000      0.000000                  0.000000   \n",
       "25%        0.000000       0.000000      0.000000                  0.000000   \n",
       "50%        1.000000       0.000000      1.000000                  0.000000   \n",
       "75%        1.000000       0.000000      1.000000                  0.000000   \n",
       "max        1.000000       1.000000      1.000000                  1.000000   \n",
       "\n",
       "       CLASIFICACION_IMC_OBESIDAD  CLASIFICACION_IMC_SOBREPESO  \\\n",
       "count                11995.000000                 11995.000000   \n",
       "mean                     0.729554                     0.194164   \n",
       "std                      0.444209                     0.395572   \n",
       "min                      0.000000                     0.000000   \n",
       "25%                      0.000000                     0.000000   \n",
       "50%                      1.000000                     0.000000   \n",
       "75%                      1.000000                     0.000000   \n",
       "max                      1.000000                     1.000000   \n",
       "\n",
       "       ENF.CARDIOVASCULAR_ESTABLECIDA_SI  HIPERTENSION_SI  \n",
       "count                       11995.000000     11995.000000  \n",
       "mean                            0.024010         0.368404  \n",
       "std                             0.153087         0.482392  \n",
       "min                             0.000000         0.000000  \n",
       "25%                             0.000000         0.000000  \n",
       "50%                             0.000000         0.000000  \n",
       "75%                             0.000000         1.000000  \n",
       "max                             1.000000         1.000000  "
      ]
     },
     "execution_count": 6,
     "metadata": {},
     "output_type": "execute_result"
    }
   ],
   "source": [
    "df.describe()\n",
    "# se observan outliers"
   ]
  },
  {
   "cell_type": "code",
   "execution_count": 7,
   "id": "67470890",
   "metadata": {},
   "outputs": [],
   "source": [
    "#sns.pairplot(df[['CLEARANCE','COLESTEROL_TOTAL','UTMO_IMC','TAS','TAD']])"
   ]
  },
  {
   "cell_type": "markdown",
   "id": "5034973b",
   "metadata": {},
   "source": [
    "<div class=\"alert alert- block alert-success\">\n",
    "    <b>Restriccion de la edad de la poblacion del dataset filtrado inicial para evaluar riesgo de hipertensión<b/b>\n",
    "        </div>"
   ]
  },
  {
   "cell_type": "code",
   "execution_count": 8,
   "id": "ddbcfa1c",
   "metadata": {},
   "outputs": [
    {
     "data": {
      "text/plain": [
       "<AxesSubplot:xlabel='EDAD', ylabel='COLESTEROL_TOTAL'>"
      ]
     },
     "execution_count": 8,
     "metadata": {},
     "output_type": "execute_result"
    },
    {
     "data": {
      "image/png": "[encoded data removed]",
      "text/plain": [
       "<Figure size 432x288 with 1 Axes>"
      ]
     },
     "metadata": {
      "needs_background": "light"
     },
     "output_type": "display_data"
    }
   ],
   "source": [
    "sns.scatterplot(data = df,x ='EDAD',y ='COLESTEROL_TOTAL',hue ='HIPERTENSION_SI')"
   ]
  },
  {
   "cell_type": "code",
   "execution_count": 9,
   "id": "086fdbdf",
   "metadata": {},
   "outputs": [
    {
     "name": "stdout",
     "output_type": "stream",
     "text": [
      "Cantidad de registros de df filtrado por edad: 8405\n",
      "No Hipertensos: 0.513\n",
      "Hipertensos: 0.487\n"
     ]
    }
   ],
   "source": [
    "# restriccion general en cuando a la edad del grupo etario a considerar en df\n",
    "indexNames1 = df[df.EDAD < 40].index\n",
    "df.drop(indexNames1, inplace = True)\n",
    "\n",
    "print ('Cantidad de registros de df filtrado por edad:', df.shape[0])\n",
    "print('No Hipertensos:', round(df.HIPERTENSION_SI.value_counts(normalize=True)[0],3))\n",
    "print('Hipertensos:', round(df.HIPERTENSION_SI.value_counts(normalize=True)[1],3))"
   ]
  },
  {
   "cell_type": "markdown",
   "id": "931361d6",
   "metadata": {},
   "source": [
    "<font color='magenta'>*Las clases estan balanceadas*</font>"
   ]
  },
  {
   "cell_type": "code",
   "execution_count": 10,
   "id": "1a959ff2",
   "metadata": {},
   "outputs": [
    {
     "name": "stdout",
     "output_type": "stream",
     "text": [
      "<class 'pandas.core.series.Series'>\n"
     ]
    },
    {
     "data": {
      "text/plain": [
       "Text(0.5, 1.0, 'Correlación entre aspectos predictores e Hipertensión en dataset con restriccion edad')"
      ]
     },
     "execution_count": 10,
     "metadata": {},
     "output_type": "execute_result"
    },
    {
     "data": {
      "image/png": "[encoded data removed]",
      "text/plain": [
       "<Figure size 432x288 with 1 Axes>"
      ]
     },
     "metadata": {
      "needs_background": "light"
     },
     "output_type": "display_data"
    }
   ],
   "source": [
    "correlacion_target = abs(df.corr()['HIPERTENSION_SI'])\n",
    "print(type(correlacion_target))\n",
    "mask = (correlacion_target>0.05) & (correlacion_target<1)\n",
    "correlacion_target = correlacion_target[mask]\n",
    "correlacion_target.plot.bar()\n",
    "plt.title(\"Correlación entre aspectos predictores e Hipertensión en dataset con restriccion edad\",loc='center')"
   ]
  },
  {
   "cell_type": "markdown",
   "id": "37911613",
   "metadata": {},
   "source": [
    "<div class=\"alert alert- block alert-warning\">\n",
    "    <b>Eliminacion de outliers<b/b>\n",
    "        </div>"
   ]
  },
  {
   "cell_type": "markdown",
   "id": "83dea141",
   "metadata": {},
   "source": [
    "Se efectua la eliminación de outliers mediante la determinación de rangos de valores que serán aceptados en variables predictoras numéricas no dummies excepto EDAD"
   ]
  },
  {
   "cell_type": "code",
   "execution_count": 11,
   "id": "0d51d106",
   "metadata": {},
   "outputs": [],
   "source": [
    "def rango_extremos(frame, label, quant_list):\n",
    "        for i,v in enumerate(quant_list):\n",
    "            if v > 0 and v < 100:\n",
    "                quant_list[i] = v/100\n",
    "        \n",
    "        rango_outlier = frame[label].quantile(quant_list)\n",
    "        #print ('range_outlier: type: {}, len: {}'.format(type(rango_outlier),len(rango_outlier)))\n",
    "        return round(rango_outlier,2)"
   ]
  },
  {
   "cell_type": "code",
   "execution_count": 12,
   "id": "cc39090d",
   "metadata": {},
   "outputs": [
    {
     "name": "stdout",
     "output_type": "stream",
     "text": [
      "8045\n"
     ]
    }
   ],
   "source": [
    "#Filtro valores_extremos en df segun percentiles\n",
    "for v in ['COLESTEROL_TOTAL','CLEARANCE','UTMO_IMC','TAS','TAD']:\n",
    "    rango_outlier = rango_extremos(df, v, [0.8, 99.8])\n",
    "    rango_outlier = list(rango_outlier)\n",
    "    mascara_outlier = (df[v]>= rango_outlier[0]) & (df[v] <= rango_outlier[1])\n",
    "    df = df.drop(df[mascara_outlier == False].index)\n",
    "print(df.shape[0])"
   ]
  },
  {
   "cell_type": "code",
   "execution_count": 13,
   "id": "fc008493",
   "metadata": {},
   "outputs": [],
   "source": [
    "# dataset df sin outliers\n",
    "#df.describe()"
   ]
  },
  {
   "cell_type": "code",
   "execution_count": 14,
   "id": "53fbeb37",
   "metadata": {},
   "outputs": [],
   "source": [
    "#sns.pairplot(df[['CLEARANCE','COLESTEROL_TOTAL','UTMO_IMC','TAS', 'TAD']])"
   ]
  },
  {
   "cell_type": "code",
   "execution_count": 15,
   "id": "26b728b9",
   "metadata": {},
   "outputs": [
    {
     "name": "stdout",
     "output_type": "stream",
     "text": [
      "Número de registros para el dataset para análisis de riesgo de hipertensión:\n",
      "(8045, 16)\n",
      "Distribución en porcentaje en hipertensos y no hipertensos\n"
     ]
    },
    {
     "data": {
      "text/plain": [
       "0    0.514232\n",
       "1    0.485768\n",
       "Name: HIPERTENSION_SI, dtype: float64"
      ]
     },
     "execution_count": 15,
     "metadata": {},
     "output_type": "execute_result"
    }
   ],
   "source": [
    "# como quedaron las clases a predecir en df\n",
    "print('Número de registros para el dataset para análisis de riesgo de hipertensión:')\n",
    "print(df.shape)\n",
    "print('Distribución en porcentaje en hipertensos y no hipertensos')\n",
    "df.HIPERTENSION_SI.value_counts(normalize=True)"
   ]
  },
  {
   "cell_type": "markdown",
   "id": "1d8cb438",
   "metadata": {},
   "source": [
    "<font color='magenta'>*Las clases quedaron balanceadas. Acá termina proceso de limpieza general del dataset*</font>"
   ]
  },
  {
   "cell_type": "markdown",
   "id": "bc61da82",
   "metadata": {},
   "source": [
    "[Volver al índice](#Volver_indice)\n",
    "<a href='#Volver_indice'></a> "
   ]
  },
  {
   "cell_type": "markdown",
   "id": "2e6a0c12",
   "metadata": {},
   "source": [
    "<a id='section3'></a>\n",
    "### Sección 3\n"
   ]
  },
  {
   "cell_type": "markdown",
   "id": "4108e18e",
   "metadata": {},
   "source": [
    "Se define una función para armar un dataframe y unir las métricas que se obtienen con los distintos modelos construidos para predecir"
   ]
  },
  {
   "cell_type": "code",
   "execution_count": 41,
   "id": "35e15c36",
   "metadata": {},
   "outputs": [],
   "source": [
    "def metricas_modelos(name, y_test, y_pred, y_pred_proba):    \n",
    "    metricas.loc[name,'accuracy'] = round(accuracy_score(y_test, y_pred), 3)\n",
    "    metricas.loc[name,'recall'] = round(recall_score(y_test, y_pred), 3)\n",
    "    metricas.loc[name,'precision'] = round(precision_score(y_test, y_pred), 3)\n",
    "    metricas.loc[name,'f1_score'] = round(f1_score(y_test, y_pred), 3)\n",
    "    fpr_log,tpr_log,thr_log = roc_curve(y_test, y_pred_proba[:,1])\n",
    "    metricas.loc[name,'AUC'] = round(auc(fpr_log, tpr_log), 3)\n",
    "    return metricas"
   ]
  },
  {
   "cell_type": "markdown",
   "id": "9f431a3d",
   "metadata": {},
   "source": [
    "***Random Forest y Análisis de features***"
   ]
  },
  {
   "cell_type": "markdown",
   "id": "d622da4d",
   "metadata": {},
   "source": [
    "<div class=\"alert alert- block alert-success\">\n",
    "    <b>Random Forest - GridSearchCV - Metricas - Feature Importance<b>\n",
    "        </div."
   ]
  },
  {
   "cell_type": "code",
   "execution_count": 17,
   "id": "84f47501",
   "metadata": {},
   "outputs": [
    {
     "data": {
      "text/plain": [
       "(8045, 15)"
      ]
     },
     "execution_count": 17,
     "metadata": {},
     "output_type": "execute_result"
    }
   ],
   "source": [
    "X = df.drop('HIPERTENSION_SI', axis = 1)\n",
    "y = df.HIPERTENSION_SI\n",
    "X.shape"
   ]
  },
  {
   "cell_type": "code",
   "execution_count": 18,
   "id": "f236e093",
   "metadata": {},
   "outputs": [],
   "source": [
    "scaler = StandardScaler()\n",
    "X_train, X_test, y_train, y_test = train_test_split(X, y, test_size = 0.3, random_state = 0, stratify = y)\n",
    "X_train_sc = scaler.fit_transform(X_train)\n",
    "X_test_sc= scaler.transform(X_test)"
   ]
  },
  {
   "cell_type": "code",
   "execution_count": 23,
   "id": "2dcb49ae",
   "metadata": {},
   "outputs": [
    {
     "name": "stdout",
     "output_type": "stream",
     "text": [
      "Mejor Combinación de Hiperparámetros en Random Forest: \n",
      "{'max_depth': 8, 'n_estimators': 50, 'random_state': 0}\n"
     ]
    }
   ],
   "source": [
    "RFC = RandomForestClassifier()\n",
    "\n",
    "params = {\"n_estimators\": [50, 100, 150], \"max_depth\": [6, 8, 10, 15],\"random_state\": [0]}\n",
    "RFC = GridSearchCV(RFC, param_grid = params)\n",
    "RFC.fit(X_train_sc, y_train)\n",
    "\n",
    "\n",
    "print('Mejor Combinación de Hiperparámetros en Random Forest: ')\n",
    "print(RFC.best_params_)\n",
    "\n",
    "y_pred = RFC.predict(X_test_sc)\n",
    "y_pred_proba = RFC.predict_proba(X_test_sc)"
   ]
  },
  {
   "cell_type": "code",
   "execution_count": 20,
   "id": "c407b87a",
   "metadata": {},
   "outputs": [],
   "source": [
    "#sns.heatmap(confusion_matrix(y_test, y_pred), annot=True, fmt='.0f')\n",
    "#plt.ylabel('Etiquetas reales')\n",
    "#plt.xlabel('Etiquetas predichas');"
   ]
  },
  {
   "cell_type": "code",
   "execution_count": 42,
   "id": "7012b28f",
   "metadata": {},
   "outputs": [
    {
     "data": {
      "text/html": [
       "<div>\n",
       "<style scoped>\n",
       "    .dataframe tbody tr th:only-of-type {\n",
       "        vertical-align: middle;\n",
       "    }\n",
       "\n",
       "    .dataframe tbody tr th {\n",
       "        vertical-align: top;\n",
       "    }\n",
       "\n",
       "    .dataframe thead th {\n",
       "        text-align: right;\n",
       "    }\n",
       "</style>\n",
       "<table border=\"1\" class=\"dataframe\">\n",
       "  <thead>\n",
       "    <tr style=\"text-align: right;\">\n",
       "      <th></th>\n",
       "      <th>accuracy</th>\n",
       "      <th>recall</th>\n",
       "      <th>precision</th>\n",
       "      <th>f1_score</th>\n",
       "      <th>AUC</th>\n",
       "    </tr>\n",
       "  </thead>\n",
       "  <tbody>\n",
       "    <tr>\n",
       "      <th>RFC</th>\n",
       "      <td>0.715</td>\n",
       "      <td>0.655</td>\n",
       "      <td>0.731</td>\n",
       "      <td>0.691</td>\n",
       "      <td>0.808</td>\n",
       "    </tr>\n",
       "  </tbody>\n",
       "</table>\n",
       "</div>"
      ],
      "text/plain": [
       "     accuracy  recall  precision  f1_score    AUC\n",
       "RFC     0.715   0.655      0.731     0.691  0.808"
      ]
     },
     "execution_count": 42,
     "metadata": {},
     "output_type": "execute_result"
    }
   ],
   "source": [
    "metricas = pd.DataFrame()\n",
    "metricas_modelos('RFC', y_test, y_pred, y_pred_proba)"
   ]
  },
  {
   "cell_type": "code",
   "execution_count": 43,
   "id": "1a47e6f6",
   "metadata": {},
   "outputs": [
    {
     "data": {
      "image/png": "[encoded data removed]",
      "text/plain": [
       "<Figure size 432x288 with 1 Axes>"
      ]
     },
     "metadata": {
      "needs_background": "light"
     },
     "output_type": "display_data"
    }
   ],
   "source": [
    "#curva roc\n",
    "fpr_log, tpr_log, thr_log = roc_curve(y_test, y_pred_proba[:,1])\n",
    "\n",
    "df_1 = pd.DataFrame(dict(fpr = fpr_log, tpr = tpr_log, thr = thr_log))\n",
    "\n",
    "plt.axis([-0.01, 1.01, -0.01, 1.01])\n",
    "plt.xlabel('1 - Specificity'); plt.ylabel('TPR / Sensitivity'); plt.title('ROC Curve para RFC')\n",
    "plt.plot(df_1['fpr'], df_1['tpr'],'g')\n",
    "plt.plot(np.arange(0,1, step =0.01), np.arange(0,1, step =0.01))\n",
    "plt.show()"
   ]
  },
  {
   "cell_type": "markdown",
   "id": "2a42c62a",
   "metadata": {},
   "source": [
    "<font color='magenta'>*Se quiere evaluar con los resultados de GridSearchCV y RandomForest, la importancia de los aspectos considerados hasta ahora para la prediccion. Para eso, se emplea el mejor modelo que se obtuvo con RFC y primero verificamos resultados del GridSearchCV de RFC.*</font>"
   ]
  },
  {
   "cell_type": "code",
   "execution_count": 44,
   "id": "6cc4a264",
   "metadata": {},
   "outputs": [
    {
     "data": {
      "text/plain": [
       "RandomForestClassifier(max_depth=8, n_estimators=50, random_state=0)"
      ]
     },
     "execution_count": 44,
     "metadata": {},
     "output_type": "execute_result"
    }
   ],
   "source": [
    "RFC.best_estimator_.fit(X_train_sc, y_train)"
   ]
  },
  {
   "cell_type": "code",
   "execution_count": 45,
   "id": "872ec39b",
   "metadata": {},
   "outputs": [],
   "source": [
    "y_pred = RFC.best_estimator_.predict(X_test_sc)\n",
    "y_pred_proba = RFC.best_estimator_.predict_proba(X_test_sc)"
   ]
  },
  {
   "cell_type": "code",
   "execution_count": 46,
   "id": "63036c71",
   "metadata": {},
   "outputs": [
    {
     "data": {
      "text/html": [
       "<div>\n",
       "<style scoped>\n",
       "    .dataframe tbody tr th:only-of-type {\n",
       "        vertical-align: middle;\n",
       "    }\n",
       "\n",
       "    .dataframe tbody tr th {\n",
       "        vertical-align: top;\n",
       "    }\n",
       "\n",
       "    .dataframe thead th {\n",
       "        text-align: right;\n",
       "    }\n",
       "</style>\n",
       "<table border=\"1\" class=\"dataframe\">\n",
       "  <thead>\n",
       "    <tr style=\"text-align: right;\">\n",
       "      <th></th>\n",
       "      <th>accuracy</th>\n",
       "      <th>recall</th>\n",
       "      <th>precision</th>\n",
       "      <th>f1_score</th>\n",
       "      <th>AUC</th>\n",
       "    </tr>\n",
       "  </thead>\n",
       "  <tbody>\n",
       "    <tr>\n",
       "      <th>RFC</th>\n",
       "      <td>0.715</td>\n",
       "      <td>0.655</td>\n",
       "      <td>0.731</td>\n",
       "      <td>0.691</td>\n",
       "      <td>0.808</td>\n",
       "    </tr>\n",
       "    <tr>\n",
       "      <th>RFC_best</th>\n",
       "      <td>0.715</td>\n",
       "      <td>0.655</td>\n",
       "      <td>0.731</td>\n",
       "      <td>0.691</td>\n",
       "      <td>0.808</td>\n",
       "    </tr>\n",
       "  </tbody>\n",
       "</table>\n",
       "</div>"
      ],
      "text/plain": [
       "          accuracy  recall  precision  f1_score    AUC\n",
       "RFC          0.715   0.655      0.731     0.691  0.808\n",
       "RFC_best     0.715   0.655      0.731     0.691  0.808"
      ]
     },
     "execution_count": 46,
     "metadata": {},
     "output_type": "execute_result"
    }
   ],
   "source": [
    "# es una comprobacion de los resultados del modelo de RandomForest con GS\n",
    "metricas_modelos('RFC_best', y_test, y_pred, y_pred_proba)"
   ]
  },
  {
   "cell_type": "code",
   "execution_count": 47,
   "id": "2941c8d1",
   "metadata": {},
   "outputs": [
    {
     "name": "stdout",
     "output_type": "stream",
     "text": [
      "[0.15557105 0.08064449 0.07785479 0.10053242 0.0693527  0.17664549\n",
      " 0.01185765 0.05525443 0.08572317 0.07185923 0.08575297 0.00314371\n",
      " 0.00898799 0.00805008 0.00876985]\n"
     ]
    }
   ],
   "source": [
    "importancias = RFC.best_estimator_.feature_importances_\n",
    "print(importancias)"
   ]
  },
  {
   "cell_type": "code",
   "execution_count": 48,
   "id": "c334072b",
   "metadata": {},
   "outputs": [],
   "source": [
    "a = pd.Series(importancias,index = X.columns)\n",
    "columns = a[importancias > 0.06].index"
   ]
  },
  {
   "cell_type": "code",
   "execution_count": 49,
   "id": "c20620b1",
   "metadata": {},
   "outputs": [
    {
     "data": {
      "text/plain": [
       "<AxesSubplot:title={'center':'Importancia de features: RandomForest con GridSearchCV'}>"
      ]
     },
     "execution_count": 49,
     "metadata": {},
     "output_type": "execute_result"
    },
    {
     "data": {
      "image/png": "[encoded data removed]",
      "text/plain": [
       "<Figure size 432x288 with 1 Axes>"
      ]
     },
     "metadata": {
      "needs_background": "light"
     },
     "output_type": "display_data"
    }
   ],
   "source": [
    "(pd.Series(importancias, index = X.columns).nlargest(14).plot(kind = 'barh', title = 'Importancia de features: RandomForest con GridSearchCV'))"
   ]
  },
  {
   "cell_type": "markdown",
   "id": "20d75bdf",
   "metadata": {},
   "source": [
    "<font color='magenta'>*De acuerdo con los resultados de feature_importances y considerando relevancia de mas de 6%, los aspectos centrales de la prediccion son NUEVE (9): EDAD, OBESIDAD_SI, CLEARANCE, UTMO_IMC, COLESTEROL_TOTAL, TAS, TAD, DISLIPEMIA_SI, DIABETES_NO*</font>"
   ]
  },
  {
   "cell_type": "code",
   "execution_count": null,
   "id": "7db4fc1a",
   "metadata": {},
   "outputs": [],
   "source": [
    "#confusion_matrix(y_test, y_pred)"
   ]
  },
  {
   "cell_type": "code",
   "execution_count": null,
   "id": "cbd5a71f",
   "metadata": {},
   "outputs": [],
   "source": [
    "#sns.heatmap(confusion_matrix(y_test, y_pred), annot=True, fmt='.0f')\n",
    "#plt.ylabel('Etiquetas reales')\n",
    "#plt.xlabel('Etiquetas predichas');"
   ]
  },
  {
   "cell_type": "markdown",
   "id": "f27bf309",
   "metadata": {},
   "source": [
    "<font color='magenta'>*Se efectua una prueba del modelo Random Forest reduciendo las features (segun feature_importances) para ver como resultan las metricas en este caso*</font>"
   ]
  },
  {
   "cell_type": "code",
   "execution_count": 50,
   "id": "06d3469e",
   "metadata": {},
   "outputs": [
    {
     "data": {
      "text/plain": [
       "(8045, 10)"
      ]
     },
     "execution_count": 50,
     "metadata": {},
     "output_type": "execute_result"
    }
   ],
   "source": [
    "df_new = df[columns]\n",
    "df_new['HIPERTENSION_SI'] = df['HIPERTENSION_SI']\n",
    "df_new.shape"
   ]
  },
  {
   "cell_type": "code",
   "execution_count": 51,
   "id": "433bd9cd",
   "metadata": {},
   "outputs": [],
   "source": [
    "###definicion de dataset segun feature importance\n",
    "Xn = df_new.drop('HIPERTENSION_SI',axis = 1)\n",
    "yn = df_new.HIPERTENSION_SI"
   ]
  },
  {
   "cell_type": "code",
   "execution_count": 52,
   "id": "2b1e5756",
   "metadata": {},
   "outputs": [],
   "source": [
    "scaler = StandardScaler()\n",
    "X_train, X_test, y_train, y_test = train_test_split(Xn, yn, test_size = 0.30, random_state = 1, stratify = y)\n",
    "X_train_sc = scaler.fit_transform(X_train)\n",
    "X_test_sc= scaler.transform(X_test)"
   ]
  },
  {
   "cell_type": "code",
   "execution_count": 53,
   "id": "ae02c95b",
   "metadata": {},
   "outputs": [
    {
     "name": "stdout",
     "output_type": "stream",
     "text": [
      "Mejor Combinación de Hiperparámetros en Random Forest reducido con GridSearch: \n",
      "{'max_depth': 10, 'n_estimators': 200, 'random_state': 0}\n"
     ]
    }
   ],
   "source": [
    "RFC_red = RandomForestClassifier()\n",
    "params = {\"n_estimators\": [50, 100, 150, 200], \"max_depth\": [6, 8, 10, 15, 20], \"random_state\": [0]}\n",
    "\n",
    "RFC_red = GridSearchCV(RFC_red, param_grid=params)\n",
    "\n",
    "RFC_red.fit(X_train_sc, y_train)\n",
    "\n",
    "y_pred= RFC_red.predict(X_test_sc)\n",
    "y_pred_proba= RFC_red.predict_proba(X_test_sc)\n",
    "\n",
    "print('Mejor Combinación de Hiperparámetros en Random Forest reducido con GridSearch: ')\n",
    "print(RFC_red.best_params_)"
   ]
  },
  {
   "cell_type": "code",
   "execution_count": null,
   "id": "22031d59",
   "metadata": {},
   "outputs": [],
   "source": [
    "#confusion_matrix(y_pred, y_test)"
   ]
  },
  {
   "cell_type": "code",
   "execution_count": null,
   "id": "3edbbe9f",
   "metadata": {},
   "outputs": [],
   "source": [
    "#sns.heatmap(confusion_matrix(y_test, y_pred), annot=True, fmt='.0f')\n",
    "#plt.ylabel('Etiquetas reales')\n",
    "#plt.xlabel('Etiquetas predichas');"
   ]
  },
  {
   "cell_type": "code",
   "execution_count": 54,
   "id": "d2b05f39",
   "metadata": {},
   "outputs": [
    {
     "data": {
      "text/html": [
       "<div>\n",
       "<style scoped>\n",
       "    .dataframe tbody tr th:only-of-type {\n",
       "        vertical-align: middle;\n",
       "    }\n",
       "\n",
       "    .dataframe tbody tr th {\n",
       "        vertical-align: top;\n",
       "    }\n",
       "\n",
       "    .dataframe thead th {\n",
       "        text-align: right;\n",
       "    }\n",
       "</style>\n",
       "<table border=\"1\" class=\"dataframe\">\n",
       "  <thead>\n",
       "    <tr style=\"text-align: right;\">\n",
       "      <th></th>\n",
       "      <th>accuracy</th>\n",
       "      <th>recall</th>\n",
       "      <th>precision</th>\n",
       "      <th>f1_score</th>\n",
       "      <th>AUC</th>\n",
       "    </tr>\n",
       "  </thead>\n",
       "  <tbody>\n",
       "    <tr>\n",
       "      <th>RFC</th>\n",
       "      <td>0.715</td>\n",
       "      <td>0.655</td>\n",
       "      <td>0.731</td>\n",
       "      <td>0.691</td>\n",
       "      <td>0.808</td>\n",
       "    </tr>\n",
       "    <tr>\n",
       "      <th>RFC_best</th>\n",
       "      <td>0.715</td>\n",
       "      <td>0.655</td>\n",
       "      <td>0.731</td>\n",
       "      <td>0.691</td>\n",
       "      <td>0.808</td>\n",
       "    </tr>\n",
       "    <tr>\n",
       "      <th>RFC_red</th>\n",
       "      <td>0.685</td>\n",
       "      <td>0.638</td>\n",
       "      <td>0.690</td>\n",
       "      <td>0.663</td>\n",
       "      <td>0.777</td>\n",
       "    </tr>\n",
       "  </tbody>\n",
       "</table>\n",
       "</div>"
      ],
      "text/plain": [
       "          accuracy  recall  precision  f1_score    AUC\n",
       "RFC          0.715   0.655      0.731     0.691  0.808\n",
       "RFC_best     0.715   0.655      0.731     0.691  0.808\n",
       "RFC_red      0.685   0.638      0.690     0.663  0.777"
      ]
     },
     "execution_count": 54,
     "metadata": {},
     "output_type": "execute_result"
    }
   ],
   "source": [
    "metricas_modelos('RFC_red', y_test, y_pred, y_pred_proba)"
   ]
  },
  {
   "cell_type": "markdown",
   "id": "ed4e1657",
   "metadata": {},
   "source": [
    "<font color='magenta'>*Los valores de accuracy empeoraron al considerar menos aspectos. La unica diferencia a resaltar es que se consigue un peor resultado que el anterior ahora con 200 estimadores y una profundidad igual a 10.*</font>"
   ]
  },
  {
   "cell_type": "markdown",
   "id": "93ed9e89",
   "metadata": {},
   "source": [
    "<div class=\"alert alert- block alert-success\">\n",
    "    <b>Análisis de feature importance por medio de SelectKbest<b/b>\n",
    "        </div>"
   ]
  },
  {
   "cell_type": "code",
   "execution_count": 55,
   "id": "a27265a8",
   "metadata": {},
   "outputs": [],
   "source": [
    "X=df.drop('HIPERTENSION_SI', axis = 1)\n",
    "y=df.HIPERTENSION_SI"
   ]
  },
  {
   "cell_type": "code",
   "execution_count": 56,
   "id": "f2748f31",
   "metadata": {},
   "outputs": [],
   "source": [
    "scaler = StandardScaler()\n",
    "X_train, X_test, y_train, y_test = train_test_split(X, y,test_size = 0.3,random_state = 0, stratify = y)\n",
    "X_train_sc = scaler.fit_transform(X_train)\n",
    "X_test_sc = scaler.transform(X_test)"
   ]
  },
  {
   "cell_type": "code",
   "execution_count": 57,
   "id": "11a5ff06",
   "metadata": {},
   "outputs": [],
   "source": [
    "bestfeatures_k = SelectKBest(score_func=chi2, k=7)\n",
    "fit_k = bestfeatures_k.fit_transform(X,y)\n",
    "\n",
    "df_reduced_k = pd.DataFrame(fit_k, columns = X.columns[bestfeatures_k.get_support()])"
   ]
  },
  {
   "cell_type": "code",
   "execution_count": 58,
   "id": "465374ec",
   "metadata": {},
   "outputs": [
    {
     "name": "stdout",
     "output_type": "stream",
     "text": [
      "                              Feature        Score\n",
      "0                                 TAS  1876.802563\n",
      "3                           CLEARANCE  1381.896484\n",
      "5                                EDAD  1373.231587\n",
      "1                                 TAD   548.551023\n",
      "10                        OBESIDAD_SI    77.258909\n",
      "14  ENF.CARDIOVASCULAR_ESTABLECIDA_SI    42.704890\n",
      "13        CLASIFICACION_IMC_SOBREPESO    33.597836\n",
      "12         CLASIFICACION_IMC_OBESIDAD    14.444259\n",
      "2                            UTMO_IMC    11.025395\n",
      "11           CLASIFICACION_IMC_NORMAL     8.877402\n"
     ]
    }
   ],
   "source": [
    "df_scores = pd.DataFrame(bestfeatures_k.scores_)\n",
    "df_columns = pd.DataFrame(X.columns)\n",
    "\n",
    "scores = pd.concat([df_columns,df_scores],axis=1)\n",
    "scores.columns = ['Feature' , 'Score']\n",
    "\n",
    "print(scores.nlargest(10,'Score'))"
   ]
  },
  {
   "cell_type": "markdown",
   "id": "4e7c928a",
   "metadata": {},
   "source": [
    "<div class=\"alert alert- block alert-success\">\n",
    "    <b>Análisis de feature importance por medio de RFECV<b/b>\n",
    "        </div>"
   ]
  },
  {
   "cell_type": "code",
   "execution_count": 59,
   "id": "054cbafb",
   "metadata": {},
   "outputs": [
    {
     "data": {
      "text/plain": [
       "RFECV(cv=StratifiedKFold(n_splits=3, random_state=0, shuffle=True),\n",
       "      estimator=RandomForestClassifier(class_weight='balanced_subsample'),\n",
       "      scoring='accuracy')"
      ]
     },
     "execution_count": 59,
     "metadata": {},
     "output_type": "execute_result"
    }
   ],
   "source": [
    "# Nuevo Intento con seleccion de features\n",
    "skf = StratifiedKFold(n_splits = 3, shuffle = True, random_state = 0)\n",
    "\n",
    "rfecv = RFECV(RandomForestClassifier(class_weight = 'balanced_subsample'), step = 1, cv=skf, scoring = 'accuracy')\n",
    "           \n",
    "rfecv.fit(X_train, y_train)"
   ]
  },
  {
   "cell_type": "code",
   "execution_count": 60,
   "id": "20e120f1",
   "metadata": {},
   "outputs": [],
   "source": [
    "rfe_cv_score = rfecv.grid_scores_\n",
    "n_features = np.arange(1,15)\n",
    "n_features = np.insert(n_features, 0, 1)"
   ]
  },
  {
   "cell_type": "code",
   "execution_count": 61,
   "id": "9869b5b2",
   "metadata": {},
   "outputs": [
    {
     "data": {
      "image/png": "[encoded data removed]",
      "text/plain": [
       "<Figure size 432x288 with 1 Axes>"
      ]
     },
     "metadata": {
      "needs_background": "light"
     },
     "output_type": "display_data"
    }
   ],
   "source": [
    "plt.bar(n_features,rfe_cv_score, color = \"b\", width = 3, align = \"center\")\n",
    "plt.xlabel('Número de features');\n",
    "plt.ylabel('test score');"
   ]
  },
  {
   "cell_type": "code",
   "execution_count": 62,
   "id": "1b5b44bc",
   "metadata": {},
   "outputs": [
    {
     "data": {
      "text/plain": [
       "RFE(estimator=RandomForestClassifier(class_weight='balanced_subsample'),\n",
       "    n_features_to_select=7)"
      ]
     },
     "execution_count": 62,
     "metadata": {},
     "output_type": "execute_result"
    }
   ],
   "source": [
    "rfe = RFE(RandomForestClassifier(class_weight='balanced_subsample'),\\\n",
    "       n_features_to_select = 7, step = 1)\n",
    "rfe.fit(X_train, y_train)"
   ]
  },
  {
   "cell_type": "code",
   "execution_count": 63,
   "id": "952f689c",
   "metadata": {},
   "outputs": [
    {
     "name": "stdout",
     "output_type": "stream",
     "text": [
      "Features Conservadas por RFECV:\n",
      "Index(['TAS', 'TAD', 'UTMO_IMC', 'CLEARANCE', 'COLESTEROL_TOTAL', 'EDAD',\n",
      "       'DIABETES_NO'],\n",
      "      dtype='object')\n",
      "\n",
      "Features Descartadas por RFECV\n",
      "Index(['SEXO_MASCULINO', 'DIABETES_DM2', 'DISLIPEMIA_SI', 'OBESIDAD_SI',\n",
      "       'CLASIFICACION_IMC_NORMAL', 'CLASIFICACION_IMC_OBESIDAD',\n",
      "       'CLASIFICACION_IMC_SOBREPESO', 'ENF.CARDIOVASCULAR_ESTABLECIDA_SI'],\n",
      "      dtype='object')\n"
     ]
    }
   ],
   "source": [
    "X_train = pd.DataFrame(X_train, columns = X.columns.to_list())\n",
    "X_test = pd.DataFrame(X_test, columns = X.columns.to_list())\n",
    "\n",
    "print('Features Conservadas por RFECV:')\n",
    "print(X_train.columns[rfe.support_])\n",
    "\n",
    "print('\\nFeatures Descartadas por RFECV')\n",
    "print(X_train.columns[~rfe.support_])\n",
    "\n",
    "X_train = X_train.loc[:, rfe.support_]\n",
    "X_test = X_test.loc[:, rfe.support_]\n",
    "\n",
    "X_train_sc = scaler.fit_transform(X_train)\n",
    "X_test_sc = scaler.transform(X_test)"
   ]
  },
  {
   "cell_type": "code",
   "execution_count": 64,
   "id": "3bc7f996",
   "metadata": {},
   "outputs": [
    {
     "name": "stdout",
     "output_type": "stream",
     "text": [
      "Mejor Combinación de Hiperparámetros en Random Forest RFECV con GridSearch: \n",
      "{'max_depth': 6, 'n_estimators': 200, 'random_state': 0}\n"
     ]
    }
   ],
   "source": [
    "RFECV = RandomForestClassifier()\n",
    "\n",
    "params = {\"n_estimators\": [40, 50, 100, 150, 200], 'max_depth': [6, 8, 10, 15, 20, 25], 'random_state':[0]}\n",
    "\n",
    "RFECV = GridSearchCV(RFECV, param_grid = params)\n",
    "\n",
    "RFECV.fit(X_train_sc, y_train)\n",
    "\n",
    "y_pred = RFECV.predict(X_test_sc)\n",
    "y_pred_proba = RFECV.predict_proba(X_test_sc)\n",
    "\n",
    "print('Mejor Combinación de Hiperparámetros en Random Forest RFECV con GridSearch: ')\n",
    "print(RFECV.best_params_)"
   ]
  },
  {
   "cell_type": "code",
   "execution_count": null,
   "id": "9031bccb",
   "metadata": {},
   "outputs": [],
   "source": [
    "#sns.heatmap(confusion_matrix(y_test, y_pred), annot=True, fmt='.0f')\n",
    "#plt.ylabel('Etiquetas reales')\n",
    "#plt.xlabel('Etiquetas predichas');"
   ]
  },
  {
   "cell_type": "code",
   "execution_count": 65,
   "id": "ed6bbd2b",
   "metadata": {},
   "outputs": [
    {
     "data": {
      "text/html": [
       "<div>\n",
       "<style scoped>\n",
       "    .dataframe tbody tr th:only-of-type {\n",
       "        vertical-align: middle;\n",
       "    }\n",
       "\n",
       "    .dataframe tbody tr th {\n",
       "        vertical-align: top;\n",
       "    }\n",
       "\n",
       "    .dataframe thead th {\n",
       "        text-align: right;\n",
       "    }\n",
       "</style>\n",
       "<table border=\"1\" class=\"dataframe\">\n",
       "  <thead>\n",
       "    <tr style=\"text-align: right;\">\n",
       "      <th></th>\n",
       "      <th>accuracy</th>\n",
       "      <th>recall</th>\n",
       "      <th>precision</th>\n",
       "      <th>f1_score</th>\n",
       "      <th>AUC</th>\n",
       "    </tr>\n",
       "  </thead>\n",
       "  <tbody>\n",
       "    <tr>\n",
       "      <th>RFC</th>\n",
       "      <td>0.715</td>\n",
       "      <td>0.655</td>\n",
       "      <td>0.731</td>\n",
       "      <td>0.691</td>\n",
       "      <td>0.808</td>\n",
       "    </tr>\n",
       "    <tr>\n",
       "      <th>RFC_best</th>\n",
       "      <td>0.715</td>\n",
       "      <td>0.655</td>\n",
       "      <td>0.731</td>\n",
       "      <td>0.691</td>\n",
       "      <td>0.808</td>\n",
       "    </tr>\n",
       "    <tr>\n",
       "      <th>RFC_red</th>\n",
       "      <td>0.685</td>\n",
       "      <td>0.638</td>\n",
       "      <td>0.690</td>\n",
       "      <td>0.663</td>\n",
       "      <td>0.777</td>\n",
       "    </tr>\n",
       "    <tr>\n",
       "      <th>RFECV</th>\n",
       "      <td>0.686</td>\n",
       "      <td>0.668</td>\n",
       "      <td>0.680</td>\n",
       "      <td>0.674</td>\n",
       "      <td>0.752</td>\n",
       "    </tr>\n",
       "  </tbody>\n",
       "</table>\n",
       "</div>"
      ],
      "text/plain": [
       "          accuracy  recall  precision  f1_score    AUC\n",
       "RFC          0.715   0.655      0.731     0.691  0.808\n",
       "RFC_best     0.715   0.655      0.731     0.691  0.808\n",
       "RFC_red      0.685   0.638      0.690     0.663  0.777\n",
       "RFECV        0.686   0.668      0.680     0.674  0.752"
      ]
     },
     "execution_count": 65,
     "metadata": {},
     "output_type": "execute_result"
    }
   ],
   "source": [
    "metricas_modelos('RFECV', y_test, y_pred, y_pred_proba)"
   ]
  },
  {
   "cell_type": "markdown",
   "id": "ecc86427",
   "metadata": {},
   "source": [
    "[Volver al índice](#Volver_indice)\n",
    "<a href='#Volver_indice'></a> "
   ]
  },
  {
   "cell_type": "markdown",
   "id": "af3c5749",
   "metadata": {},
   "source": [
    "<a id='section4'></a>\n",
    "### Sección 4\n"
   ]
  },
  {
   "cell_type": "markdown",
   "id": "32014cf8",
   "metadata": {},
   "source": [
    "***AdaBoost, GradientBoosting, XGBoost y LGBM con GridsearchCV***"
   ]
  },
  {
   "cell_type": "markdown",
   "id": "d20dc6c9",
   "metadata": {},
   "source": [
    "Se parte del dataset df definido en la Sección 2"
   ]
  },
  {
   "cell_type": "code",
   "execution_count": 66,
   "id": "2aba0a85",
   "metadata": {},
   "outputs": [],
   "source": [
    "X = df.drop('HIPERTENSION_SI', axis = 1)\n",
    "y = df.HIPERTENSION_SI"
   ]
  },
  {
   "cell_type": "code",
   "execution_count": 67,
   "id": "801685e8",
   "metadata": {},
   "outputs": [],
   "source": [
    "scaler = StandardScaler()\n",
    "X_train, X_test, y_train, y_test = train_test_split(X, y, test_size = 0.15, random_state = 0, stratify = y)\n",
    "X_train_sc = scaler.fit_transform(X_train)\n",
    "X_test_sc= scaler.transform(X_test)"
   ]
  },
  {
   "cell_type": "code",
   "execution_count": 68,
   "id": "06474c14",
   "metadata": {},
   "outputs": [],
   "source": [
    "dt = DecisionTreeClassifier(random_state = 0)"
   ]
  },
  {
   "cell_type": "markdown",
   "id": "03860d15",
   "metadata": {},
   "source": [
    "***AdaBoosting + GridSearchCV***"
   ]
  },
  {
   "cell_type": "code",
   "execution_count": 69,
   "id": "2a03e615",
   "metadata": {},
   "outputs": [
    {
     "data": {
      "text/plain": [
       "GridSearchCV(cv=StratifiedKFold(n_splits=3, random_state=0, shuffle=True),\n",
       "             estimator=AdaBoostClassifier(base_estimator=DecisionTreeClassifier(random_state=0),\n",
       "                                          random_state=1),\n",
       "             n_jobs=3,\n",
       "             param_grid={'base_estimator__max_depth': [1, 2, 3, 4],\n",
       "                         'learning_rate': [0.01, 0.1, 0.05],\n",
       "                         'n_estimators': [50, 100, 200, 300]})"
      ]
     },
     "execution_count": 69,
     "metadata": {},
     "output_type": "execute_result"
    }
   ],
   "source": [
    "params_AB = {\"n_estimators\": [50, 100, 200, 300], \"learning_rate\": [0.01, 0.1, 0.05], \"base_estimator__max_depth\": [1, 2, 3, 4]}\n",
    "\n",
    "ABoost = GridSearchCV(AdaBoostClassifier(base_estimator = dt, random_state = 1), \n",
    "                       param_grid = params_AB, cv = skf,#verbose=1 \n",
    "                        n_jobs = 3)\n",
    "ABoost.fit(X_train_sc, y_train)"
   ]
  },
  {
   "cell_type": "code",
   "execution_count": 70,
   "id": "4586d04d",
   "metadata": {},
   "outputs": [
    {
     "data": {
      "text/plain": [
       "AdaBoostClassifier(base_estimator=DecisionTreeClassifier(max_depth=3,\n",
       "                                                         random_state=0),\n",
       "                   learning_rate=0.1, random_state=1)"
      ]
     },
     "execution_count": 70,
     "metadata": {},
     "output_type": "execute_result"
    }
   ],
   "source": [
    "ABoost.best_estimator_"
   ]
  },
  {
   "cell_type": "code",
   "execution_count": 71,
   "id": "54319179",
   "metadata": {},
   "outputs": [],
   "source": [
    "y_pred = ABoost.best_estimator_.predict(X_test_sc)\n",
    "y_pred_proba = ABoost.best_estimator_.predict_proba(X_test_sc)"
   ]
  },
  {
   "cell_type": "code",
   "execution_count": 72,
   "id": "9b00c3e8",
   "metadata": {},
   "outputs": [
    {
     "data": {
      "text/html": [
       "<div>\n",
       "<style scoped>\n",
       "    .dataframe tbody tr th:only-of-type {\n",
       "        vertical-align: middle;\n",
       "    }\n",
       "\n",
       "    .dataframe tbody tr th {\n",
       "        vertical-align: top;\n",
       "    }\n",
       "\n",
       "    .dataframe thead th {\n",
       "        text-align: right;\n",
       "    }\n",
       "</style>\n",
       "<table border=\"1\" class=\"dataframe\">\n",
       "  <thead>\n",
       "    <tr style=\"text-align: right;\">\n",
       "      <th></th>\n",
       "      <th>accuracy</th>\n",
       "      <th>recall</th>\n",
       "      <th>precision</th>\n",
       "      <th>f1_score</th>\n",
       "      <th>AUC</th>\n",
       "    </tr>\n",
       "  </thead>\n",
       "  <tbody>\n",
       "    <tr>\n",
       "      <th>RFC</th>\n",
       "      <td>0.715</td>\n",
       "      <td>0.655</td>\n",
       "      <td>0.731</td>\n",
       "      <td>0.691</td>\n",
       "      <td>0.808</td>\n",
       "    </tr>\n",
       "    <tr>\n",
       "      <th>RFC_best</th>\n",
       "      <td>0.715</td>\n",
       "      <td>0.655</td>\n",
       "      <td>0.731</td>\n",
       "      <td>0.691</td>\n",
       "      <td>0.808</td>\n",
       "    </tr>\n",
       "    <tr>\n",
       "      <th>RFC_red</th>\n",
       "      <td>0.685</td>\n",
       "      <td>0.638</td>\n",
       "      <td>0.690</td>\n",
       "      <td>0.663</td>\n",
       "      <td>0.777</td>\n",
       "    </tr>\n",
       "    <tr>\n",
       "      <th>RFECV</th>\n",
       "      <td>0.686</td>\n",
       "      <td>0.668</td>\n",
       "      <td>0.680</td>\n",
       "      <td>0.674</td>\n",
       "      <td>0.752</td>\n",
       "    </tr>\n",
       "    <tr>\n",
       "      <th>ABoost</th>\n",
       "      <td>0.717</td>\n",
       "      <td>0.693</td>\n",
       "      <td>0.715</td>\n",
       "      <td>0.704</td>\n",
       "      <td>0.790</td>\n",
       "    </tr>\n",
       "  </tbody>\n",
       "</table>\n",
       "</div>"
      ],
      "text/plain": [
       "          accuracy  recall  precision  f1_score    AUC\n",
       "RFC          0.715   0.655      0.731     0.691  0.808\n",
       "RFC_best     0.715   0.655      0.731     0.691  0.808\n",
       "RFC_red      0.685   0.638      0.690     0.663  0.777\n",
       "RFECV        0.686   0.668      0.680     0.674  0.752\n",
       "ABoost       0.717   0.693      0.715     0.704  0.790"
      ]
     },
     "execution_count": 72,
     "metadata": {},
     "output_type": "execute_result"
    }
   ],
   "source": [
    "metricas_modelos('ABoost', y_test, y_pred, y_pred_proba)"
   ]
  },
  {
   "cell_type": "markdown",
   "id": "99dc0cc0",
   "metadata": {},
   "source": [
    "***Gradient Boosting + GridSearchCV***"
   ]
  },
  {
   "cell_type": "code",
   "execution_count": 73,
   "id": "8f4c6968",
   "metadata": {},
   "outputs": [
    {
     "data": {
      "text/plain": [
       "GridSearchCV(cv=StratifiedKFold(n_splits=3, random_state=0, shuffle=True),\n",
       "             estimator=GradientBoostingClassifier(), n_jobs=3,\n",
       "             param_grid={'learning_rate': [0.001, 0.01, 0.1],\n",
       "                         'max_depth': [1, 2, 3, 4],\n",
       "                         'n_estimators': [50, 100, 200, 300]})"
      ]
     },
     "execution_count": 73,
     "metadata": {},
     "output_type": "execute_result"
    }
   ],
   "source": [
    "params_GB = {'n_estimators': [50, 100, 200, 300],'learning_rate': [0.001, 0.01, 0.1], 'max_depth' : [1, 2, 3, 4]}\n",
    "\n",
    "GBoost = GridSearchCV(GradientBoostingClassifier(), param_grid = params_GB, cv = skf,# verbose=1,\n",
    "                       n_jobs = 3)\n",
    "GBoost.fit(X_train_sc, y_train)"
   ]
  },
  {
   "cell_type": "code",
   "execution_count": 75,
   "id": "cf63c7fb",
   "metadata": {},
   "outputs": [
    {
     "data": {
      "text/plain": [
       "GradientBoostingClassifier(max_depth=2, n_estimators=300)"
      ]
     },
     "execution_count": 75,
     "metadata": {},
     "output_type": "execute_result"
    }
   ],
   "source": [
    "GBoost.best_estimator_"
   ]
  },
  {
   "cell_type": "code",
   "execution_count": 74,
   "id": "0abe7084",
   "metadata": {},
   "outputs": [],
   "source": [
    "y_pred = GBoost.best_estimator_.predict(X_test_sc)\n",
    "y_pred_proba = GBoost.best_estimator_.predict_proba(X_test_sc)"
   ]
  },
  {
   "cell_type": "code",
   "execution_count": 76,
   "id": "86fc288b",
   "metadata": {},
   "outputs": [
    {
     "data": {
      "text/html": [
       "<div>\n",
       "<style scoped>\n",
       "    .dataframe tbody tr th:only-of-type {\n",
       "        vertical-align: middle;\n",
       "    }\n",
       "\n",
       "    .dataframe tbody tr th {\n",
       "        vertical-align: top;\n",
       "    }\n",
       "\n",
       "    .dataframe thead th {\n",
       "        text-align: right;\n",
       "    }\n",
       "</style>\n",
       "<table border=\"1\" class=\"dataframe\">\n",
       "  <thead>\n",
       "    <tr style=\"text-align: right;\">\n",
       "      <th></th>\n",
       "      <th>accuracy</th>\n",
       "      <th>recall</th>\n",
       "      <th>precision</th>\n",
       "      <th>f1_score</th>\n",
       "      <th>AUC</th>\n",
       "    </tr>\n",
       "  </thead>\n",
       "  <tbody>\n",
       "    <tr>\n",
       "      <th>RFC</th>\n",
       "      <td>0.715</td>\n",
       "      <td>0.655</td>\n",
       "      <td>0.731</td>\n",
       "      <td>0.691</td>\n",
       "      <td>0.808</td>\n",
       "    </tr>\n",
       "    <tr>\n",
       "      <th>RFC_best</th>\n",
       "      <td>0.715</td>\n",
       "      <td>0.655</td>\n",
       "      <td>0.731</td>\n",
       "      <td>0.691</td>\n",
       "      <td>0.808</td>\n",
       "    </tr>\n",
       "    <tr>\n",
       "      <th>RFC_red</th>\n",
       "      <td>0.685</td>\n",
       "      <td>0.638</td>\n",
       "      <td>0.690</td>\n",
       "      <td>0.663</td>\n",
       "      <td>0.777</td>\n",
       "    </tr>\n",
       "    <tr>\n",
       "      <th>RFECV</th>\n",
       "      <td>0.686</td>\n",
       "      <td>0.668</td>\n",
       "      <td>0.680</td>\n",
       "      <td>0.674</td>\n",
       "      <td>0.752</td>\n",
       "    </tr>\n",
       "    <tr>\n",
       "      <th>ABoost</th>\n",
       "      <td>0.717</td>\n",
       "      <td>0.693</td>\n",
       "      <td>0.715</td>\n",
       "      <td>0.704</td>\n",
       "      <td>0.790</td>\n",
       "    </tr>\n",
       "    <tr>\n",
       "      <th>GBoost</th>\n",
       "      <td>0.714</td>\n",
       "      <td>0.667</td>\n",
       "      <td>0.723</td>\n",
       "      <td>0.694</td>\n",
       "      <td>0.793</td>\n",
       "    </tr>\n",
       "  </tbody>\n",
       "</table>\n",
       "</div>"
      ],
      "text/plain": [
       "          accuracy  recall  precision  f1_score    AUC\n",
       "RFC          0.715   0.655      0.731     0.691  0.808\n",
       "RFC_best     0.715   0.655      0.731     0.691  0.808\n",
       "RFC_red      0.685   0.638      0.690     0.663  0.777\n",
       "RFECV        0.686   0.668      0.680     0.674  0.752\n",
       "ABoost       0.717   0.693      0.715     0.704  0.790\n",
       "GBoost       0.714   0.667      0.723     0.694  0.793"
      ]
     },
     "execution_count": 76,
     "metadata": {},
     "output_type": "execute_result"
    }
   ],
   "source": [
    "metricas_modelos('GBoost', y_test, y_pred, y_pred_proba)"
   ]
  },
  {
   "cell_type": "markdown",
   "id": "790f43e4",
   "metadata": {},
   "source": [
    "***ExtremeGradientBoosting + GridSearchCV***"
   ]
  },
  {
   "cell_type": "code",
   "execution_count": 77,
   "id": "6c9f5ec7",
   "metadata": {},
   "outputs": [
    {
     "name": "stdout",
     "output_type": "stream",
     "text": [
      "[20:39:03] WARNING: ..\\src\\learner.cc:1095: Starting in XGBoost 1.3.0, the default evaluation metric used with the objective 'binary:logistic' was changed from 'error' to 'logloss'. Explicitly set eval_metric if you'd like to restore the old behavior.\n"
     ]
    },
    {
     "data": {
      "text/plain": [
       "GridSearchCV(cv=StratifiedKFold(n_splits=3, random_state=0, shuffle=True),\n",
       "             estimator=XGBClassifier(base_score=None, booster=None,\n",
       "                                     colsample_bylevel=None,\n",
       "                                     colsample_bynode=None,\n",
       "                                     colsample_bytree=None, gamma=None,\n",
       "                                     gpu_id=None, importance_type='gain',\n",
       "                                     interaction_constraints=None,\n",
       "                                     learning_rate=None, max_delta_step=None,\n",
       "                                     max_depth=None, min_child_weight=None,\n",
       "                                     missing=nan, monotone_constraints=None,\n",
       "                                     n_estimators=100, n_jobs=None,\n",
       "                                     num_parallel_tree=None, random_state=None,\n",
       "                                     reg_alpha=None, reg_lambda=None,\n",
       "                                     scale_pos_weight=None, subsample=None,\n",
       "                                     tree_method=None, validate_parameters=None,\n",
       "                                     verbosity=None),\n",
       "             n_jobs=3,\n",
       "             param_grid={'learning_rate': [0.001, 0.01, 0.1, 0.05],\n",
       "                         'max_depth': [1, 2, 3, 4],\n",
       "                         'n_estimators': [50, 100, 200, 300]})"
      ]
     },
     "execution_count": 77,
     "metadata": {},
     "output_type": "execute_result"
    }
   ],
   "source": [
    "params_XGB = {'n_estimators': [50, 100, 200, 300] , 'learning_rate': [0.001, 0.01, 0.1, 0.05], 'max_depth' : [1, 2, 3, 4]}\n",
    "\n",
    "XGBoost = GridSearchCV(XGBClassifier(), param_grid = params_XGB, cv=skf,# verbose=1,\n",
    "                        n_jobs = 3)\n",
    "XGBoost.fit(X_train_sc, y_train)"
   ]
  },
  {
   "cell_type": "code",
   "execution_count": 78,
   "id": "f4121778",
   "metadata": {},
   "outputs": [
    {
     "data": {
      "text/plain": [
       "XGBClassifier(base_score=0.5, booster='gbtree', colsample_bylevel=1,\n",
       "              colsample_bynode=1, colsample_bytree=1, gamma=0, gpu_id=-1,\n",
       "              importance_type='gain', interaction_constraints='',\n",
       "              learning_rate=0.05, max_delta_step=0, max_depth=4,\n",
       "              min_child_weight=1, missing=nan, monotone_constraints='()',\n",
       "              n_estimators=200, n_jobs=8, num_parallel_tree=1, random_state=0,\n",
       "              reg_alpha=0, reg_lambda=1, scale_pos_weight=1, subsample=1,\n",
       "              tree_method='exact', validate_parameters=1, verbosity=None)"
      ]
     },
     "execution_count": 78,
     "metadata": {},
     "output_type": "execute_result"
    }
   ],
   "source": [
    "XGBoost.best_estimator_"
   ]
  },
  {
   "cell_type": "code",
   "execution_count": 79,
   "id": "f66780d9",
   "metadata": {},
   "outputs": [],
   "source": [
    "y_pred = XGBoost.best_estimator_.predict(X_test_sc)\n",
    "y_pred_proba = XGBoost.best_estimator_.predict_proba(X_test_sc)"
   ]
  },
  {
   "cell_type": "code",
   "execution_count": 80,
   "id": "d8a74a56",
   "metadata": {},
   "outputs": [
    {
     "data": {
      "text/html": [
       "<div>\n",
       "<style scoped>\n",
       "    .dataframe tbody tr th:only-of-type {\n",
       "        vertical-align: middle;\n",
       "    }\n",
       "\n",
       "    .dataframe tbody tr th {\n",
       "        vertical-align: top;\n",
       "    }\n",
       "\n",
       "    .dataframe thead th {\n",
       "        text-align: right;\n",
       "    }\n",
       "</style>\n",
       "<table border=\"1\" class=\"dataframe\">\n",
       "  <thead>\n",
       "    <tr style=\"text-align: right;\">\n",
       "      <th></th>\n",
       "      <th>accuracy</th>\n",
       "      <th>recall</th>\n",
       "      <th>precision</th>\n",
       "      <th>f1_score</th>\n",
       "      <th>AUC</th>\n",
       "    </tr>\n",
       "  </thead>\n",
       "  <tbody>\n",
       "    <tr>\n",
       "      <th>RFC</th>\n",
       "      <td>0.715</td>\n",
       "      <td>0.655</td>\n",
       "      <td>0.731</td>\n",
       "      <td>0.691</td>\n",
       "      <td>0.808</td>\n",
       "    </tr>\n",
       "    <tr>\n",
       "      <th>RFC_best</th>\n",
       "      <td>0.715</td>\n",
       "      <td>0.655</td>\n",
       "      <td>0.731</td>\n",
       "      <td>0.691</td>\n",
       "      <td>0.808</td>\n",
       "    </tr>\n",
       "    <tr>\n",
       "      <th>RFC_red</th>\n",
       "      <td>0.685</td>\n",
       "      <td>0.638</td>\n",
       "      <td>0.690</td>\n",
       "      <td>0.663</td>\n",
       "      <td>0.777</td>\n",
       "    </tr>\n",
       "    <tr>\n",
       "      <th>RFECV</th>\n",
       "      <td>0.686</td>\n",
       "      <td>0.668</td>\n",
       "      <td>0.680</td>\n",
       "      <td>0.674</td>\n",
       "      <td>0.752</td>\n",
       "    </tr>\n",
       "    <tr>\n",
       "      <th>ABoost</th>\n",
       "      <td>0.717</td>\n",
       "      <td>0.693</td>\n",
       "      <td>0.715</td>\n",
       "      <td>0.704</td>\n",
       "      <td>0.790</td>\n",
       "    </tr>\n",
       "    <tr>\n",
       "      <th>GBoost</th>\n",
       "      <td>0.714</td>\n",
       "      <td>0.667</td>\n",
       "      <td>0.723</td>\n",
       "      <td>0.694</td>\n",
       "      <td>0.793</td>\n",
       "    </tr>\n",
       "    <tr>\n",
       "      <th>XGBoost</th>\n",
       "      <td>0.715</td>\n",
       "      <td>0.662</td>\n",
       "      <td>0.727</td>\n",
       "      <td>0.693</td>\n",
       "      <td>0.801</td>\n",
       "    </tr>\n",
       "  </tbody>\n",
       "</table>\n",
       "</div>"
      ],
      "text/plain": [
       "          accuracy  recall  precision  f1_score    AUC\n",
       "RFC          0.715   0.655      0.731     0.691  0.808\n",
       "RFC_best     0.715   0.655      0.731     0.691  0.808\n",
       "RFC_red      0.685   0.638      0.690     0.663  0.777\n",
       "RFECV        0.686   0.668      0.680     0.674  0.752\n",
       "ABoost       0.717   0.693      0.715     0.704  0.790\n",
       "GBoost       0.714   0.667      0.723     0.694  0.793\n",
       "XGBoost      0.715   0.662      0.727     0.693  0.801"
      ]
     },
     "execution_count": 80,
     "metadata": {},
     "output_type": "execute_result"
    }
   ],
   "source": [
    "metricas_modelos('XGBoost', y_test, y_pred, y_pred_proba)"
   ]
  },
  {
   "cell_type": "code",
   "execution_count": 81,
   "id": "c5c0724a",
   "metadata": {},
   "outputs": [
    {
     "data": {
      "image/png": "[encoded data removed]",
      "text/plain": [
       "<Figure size 432x288 with 1 Axes>"
      ]
     },
     "metadata": {
      "needs_background": "light"
     },
     "output_type": "display_data"
    }
   ],
   "source": [
    "# la borro?\n",
    "fpr_log,tpr_log,thr_log = roc_curve(y_test, y_pred_proba[:,1])\n",
    "\n",
    "df_1 = pd.DataFrame(dict(fpr = fpr_log, tpr = tpr_log, thr = thr_log))\n",
    "\n",
    "plt.axis([0, 1.01, 0, 1.01])\n",
    "plt.xlabel('1 - Specificity'); plt.ylabel('TPR / Sensitivity'); plt.title('ROC Curve para XGBoost')\n",
    "plt.plot(df_1['fpr'], df_1['tpr'],'g')\n",
    "plt.plot(np.arange(0, 1, step =0.01), np.arange(0, 1, step = 0.01))\n",
    "plt.show()"
   ]
  },
  {
   "cell_type": "markdown",
   "id": "63fdc8dd",
   "metadata": {},
   "source": [
    "***LightGBM + GridSearchCV***"
   ]
  },
  {
   "cell_type": "code",
   "execution_count": 82,
   "id": "4a5a1c96",
   "metadata": {},
   "outputs": [],
   "source": [
    "params_LGBM = {\"n_estimators\": [50, 100, 200, 300], \"max_depth\": [1, 2, 3, 4], \"learning_rate\": [0.01, 0.1]}\n",
    "LGBM = GridSearchCV(LGBMClassifier(), param_grid = params_LGBM, cv = skf,# verbose=1,\n",
    "                        n_jobs = 3)\n",
    "LGBM.fit(X_train_sc, y_train)\n",
    "y_pred=LGBM.best_estimator_.predict(X_test_sc)\n",
    "y_pred_proba=LGBM.best_estimator_.predict_proba(X_test_sc)"
   ]
  },
  {
   "cell_type": "code",
   "execution_count": 83,
   "id": "fa5b617c",
   "metadata": {},
   "outputs": [
    {
     "data": {
      "text/plain": [
       "LGBMClassifier(max_depth=4, n_estimators=50)"
      ]
     },
     "execution_count": 83,
     "metadata": {},
     "output_type": "execute_result"
    }
   ],
   "source": [
    "LGBM.best_estimator_"
   ]
  },
  {
   "cell_type": "code",
   "execution_count": 84,
   "id": "d70365f9",
   "metadata": {},
   "outputs": [
    {
     "data": {
      "text/html": [
       "<div>\n",
       "<style scoped>\n",
       "    .dataframe tbody tr th:only-of-type {\n",
       "        vertical-align: middle;\n",
       "    }\n",
       "\n",
       "    .dataframe tbody tr th {\n",
       "        vertical-align: top;\n",
       "    }\n",
       "\n",
       "    .dataframe thead th {\n",
       "        text-align: right;\n",
       "    }\n",
       "</style>\n",
       "<table border=\"1\" class=\"dataframe\">\n",
       "  <thead>\n",
       "    <tr style=\"text-align: right;\">\n",
       "      <th></th>\n",
       "      <th>accuracy</th>\n",
       "      <th>recall</th>\n",
       "      <th>precision</th>\n",
       "      <th>f1_score</th>\n",
       "      <th>AUC</th>\n",
       "    </tr>\n",
       "  </thead>\n",
       "  <tbody>\n",
       "    <tr>\n",
       "      <th>RFC</th>\n",
       "      <td>0.715</td>\n",
       "      <td>0.655</td>\n",
       "      <td>0.731</td>\n",
       "      <td>0.691</td>\n",
       "      <td>0.808</td>\n",
       "    </tr>\n",
       "    <tr>\n",
       "      <th>RFC_best</th>\n",
       "      <td>0.715</td>\n",
       "      <td>0.655</td>\n",
       "      <td>0.731</td>\n",
       "      <td>0.691</td>\n",
       "      <td>0.808</td>\n",
       "    </tr>\n",
       "    <tr>\n",
       "      <th>RFC_red</th>\n",
       "      <td>0.685</td>\n",
       "      <td>0.638</td>\n",
       "      <td>0.690</td>\n",
       "      <td>0.663</td>\n",
       "      <td>0.777</td>\n",
       "    </tr>\n",
       "    <tr>\n",
       "      <th>RFECV</th>\n",
       "      <td>0.686</td>\n",
       "      <td>0.668</td>\n",
       "      <td>0.680</td>\n",
       "      <td>0.674</td>\n",
       "      <td>0.752</td>\n",
       "    </tr>\n",
       "    <tr>\n",
       "      <th>ABoost</th>\n",
       "      <td>0.717</td>\n",
       "      <td>0.693</td>\n",
       "      <td>0.715</td>\n",
       "      <td>0.704</td>\n",
       "      <td>0.790</td>\n",
       "    </tr>\n",
       "    <tr>\n",
       "      <th>GBoost</th>\n",
       "      <td>0.714</td>\n",
       "      <td>0.667</td>\n",
       "      <td>0.723</td>\n",
       "      <td>0.694</td>\n",
       "      <td>0.793</td>\n",
       "    </tr>\n",
       "    <tr>\n",
       "      <th>XGBoost</th>\n",
       "      <td>0.715</td>\n",
       "      <td>0.662</td>\n",
       "      <td>0.727</td>\n",
       "      <td>0.693</td>\n",
       "      <td>0.801</td>\n",
       "    </tr>\n",
       "    <tr>\n",
       "      <th>LGBM</th>\n",
       "      <td>0.716</td>\n",
       "      <td>0.669</td>\n",
       "      <td>0.725</td>\n",
       "      <td>0.696</td>\n",
       "      <td>0.802</td>\n",
       "    </tr>\n",
       "  </tbody>\n",
       "</table>\n",
       "</div>"
      ],
      "text/plain": [
       "          accuracy  recall  precision  f1_score    AUC\n",
       "RFC          0.715   0.655      0.731     0.691  0.808\n",
       "RFC_best     0.715   0.655      0.731     0.691  0.808\n",
       "RFC_red      0.685   0.638      0.690     0.663  0.777\n",
       "RFECV        0.686   0.668      0.680     0.674  0.752\n",
       "ABoost       0.717   0.693      0.715     0.704  0.790\n",
       "GBoost       0.714   0.667      0.723     0.694  0.793\n",
       "XGBoost      0.715   0.662      0.727     0.693  0.801\n",
       "LGBM         0.716   0.669      0.725     0.696  0.802"
      ]
     },
     "execution_count": 84,
     "metadata": {},
     "output_type": "execute_result"
    }
   ],
   "source": [
    "metricas_modelos('LGBM', y_test, y_pred, y_pred_proba)"
   ]
  },
  {
   "cell_type": "markdown",
   "id": "332f382a",
   "metadata": {},
   "source": [
    "[Volver al índice](#Volver_indice)\n",
    "<a href='#Volver_indice'></a> "
   ]
  },
  {
   "cell_type": "markdown",
   "id": "72de7099",
   "metadata": {},
   "source": [
    "<a id='section5'></a>\n",
    "### Sección 5\n"
   ]
  },
  {
   "cell_type": "markdown",
   "id": "1acfd934",
   "metadata": {},
   "source": [
    "***Pipelines***"
   ]
  },
  {
   "cell_type": "markdown",
   "id": "51fde364",
   "metadata": {},
   "source": [
    "<div class=\"alert alert- block alert-success\">\n",
    "    <b>Resultados de los algunos modelos con Pipelines<b/b>\n",
    "        </div>"
   ]
  },
  {
   "cell_type": "code",
   "execution_count": 85,
   "id": "6e983fed",
   "metadata": {},
   "outputs": [],
   "source": [
    "X = df.drop('HIPERTENSION_SI', axis = 1)\n",
    "y = df.HIPERTENSION_SI"
   ]
  },
  {
   "cell_type": "code",
   "execution_count": 86,
   "id": "fe5bcc95",
   "metadata": {},
   "outputs": [],
   "source": [
    "scaler = StandardScaler()\n",
    "X_train, X_test, y_train, y_test = train_test_split(X, y, test_size = 0.15, random_state = 0, stratify = y)\n",
    "X_train_sc = scaler.fit_transform(X_train)\n",
    "X_test_sc= scaler.transform(X_test)"
   ]
  },
  {
   "cell_type": "markdown",
   "id": "d5797a33",
   "metadata": {},
   "source": [
    "***Pipe_0 con RandomForest (básico)***"
   ]
  },
  {
   "cell_type": "code",
   "execution_count": 87,
   "id": "9b8baf60",
   "metadata": {},
   "outputs": [
    {
     "data": {
      "text/plain": [
       "Pipeline(steps=[('scaler', StandardScaler()),\n",
       "                ('RFC', RandomForestClassifier())])"
      ]
     },
     "execution_count": 87,
     "metadata": {},
     "output_type": "execute_result"
    }
   ],
   "source": [
    "pasos = [('scaler', StandardScaler()),('RFC', RandomForestClassifier())]\n",
    "pipe_0 = Pipeline(pasos)\n",
    "pipe_0.fit(X_train, y_train)"
   ]
  },
  {
   "cell_type": "code",
   "execution_count": 88,
   "id": "49a55426",
   "metadata": {},
   "outputs": [],
   "source": [
    "y_pred = pipe_0.predict(X_test)\n",
    "y_pred_proba = pipe_0.predict_proba(X_test)"
   ]
  },
  {
   "cell_type": "code",
   "execution_count": 89,
   "id": "334dfe3d",
   "metadata": {},
   "outputs": [
    {
     "data": {
      "text/html": [
       "<div>\n",
       "<style scoped>\n",
       "    .dataframe tbody tr th:only-of-type {\n",
       "        vertical-align: middle;\n",
       "    }\n",
       "\n",
       "    .dataframe tbody tr th {\n",
       "        vertical-align: top;\n",
       "    }\n",
       "\n",
       "    .dataframe thead th {\n",
       "        text-align: right;\n",
       "    }\n",
       "</style>\n",
       "<table border=\"1\" class=\"dataframe\">\n",
       "  <thead>\n",
       "    <tr style=\"text-align: right;\">\n",
       "      <th></th>\n",
       "      <th>accuracy</th>\n",
       "      <th>recall</th>\n",
       "      <th>precision</th>\n",
       "      <th>f1_score</th>\n",
       "      <th>AUC</th>\n",
       "    </tr>\n",
       "  </thead>\n",
       "  <tbody>\n",
       "    <tr>\n",
       "      <th>RFC</th>\n",
       "      <td>0.715</td>\n",
       "      <td>0.655</td>\n",
       "      <td>0.731</td>\n",
       "      <td>0.691</td>\n",
       "      <td>0.808</td>\n",
       "    </tr>\n",
       "    <tr>\n",
       "      <th>RFC_best</th>\n",
       "      <td>0.715</td>\n",
       "      <td>0.655</td>\n",
       "      <td>0.731</td>\n",
       "      <td>0.691</td>\n",
       "      <td>0.808</td>\n",
       "    </tr>\n",
       "    <tr>\n",
       "      <th>RFC_red</th>\n",
       "      <td>0.685</td>\n",
       "      <td>0.638</td>\n",
       "      <td>0.690</td>\n",
       "      <td>0.663</td>\n",
       "      <td>0.777</td>\n",
       "    </tr>\n",
       "    <tr>\n",
       "      <th>RFECV</th>\n",
       "      <td>0.686</td>\n",
       "      <td>0.668</td>\n",
       "      <td>0.680</td>\n",
       "      <td>0.674</td>\n",
       "      <td>0.752</td>\n",
       "    </tr>\n",
       "    <tr>\n",
       "      <th>ABoost</th>\n",
       "      <td>0.717</td>\n",
       "      <td>0.693</td>\n",
       "      <td>0.715</td>\n",
       "      <td>0.704</td>\n",
       "      <td>0.790</td>\n",
       "    </tr>\n",
       "    <tr>\n",
       "      <th>GBoost</th>\n",
       "      <td>0.714</td>\n",
       "      <td>0.667</td>\n",
       "      <td>0.723</td>\n",
       "      <td>0.694</td>\n",
       "      <td>0.793</td>\n",
       "    </tr>\n",
       "    <tr>\n",
       "      <th>XGBoost</th>\n",
       "      <td>0.715</td>\n",
       "      <td>0.662</td>\n",
       "      <td>0.727</td>\n",
       "      <td>0.693</td>\n",
       "      <td>0.801</td>\n",
       "    </tr>\n",
       "    <tr>\n",
       "      <th>LGBM</th>\n",
       "      <td>0.716</td>\n",
       "      <td>0.669</td>\n",
       "      <td>0.725</td>\n",
       "      <td>0.696</td>\n",
       "      <td>0.802</td>\n",
       "    </tr>\n",
       "    <tr>\n",
       "      <th>pipe_0</th>\n",
       "      <td>0.699</td>\n",
       "      <td>0.637</td>\n",
       "      <td>0.713</td>\n",
       "      <td>0.673</td>\n",
       "      <td>0.798</td>\n",
       "    </tr>\n",
       "  </tbody>\n",
       "</table>\n",
       "</div>"
      ],
      "text/plain": [
       "          accuracy  recall  precision  f1_score    AUC\n",
       "RFC          0.715   0.655      0.731     0.691  0.808\n",
       "RFC_best     0.715   0.655      0.731     0.691  0.808\n",
       "RFC_red      0.685   0.638      0.690     0.663  0.777\n",
       "RFECV        0.686   0.668      0.680     0.674  0.752\n",
       "ABoost       0.717   0.693      0.715     0.704  0.790\n",
       "GBoost       0.714   0.667      0.723     0.694  0.793\n",
       "XGBoost      0.715   0.662      0.727     0.693  0.801\n",
       "LGBM         0.716   0.669      0.725     0.696  0.802\n",
       "pipe_0       0.699   0.637      0.713     0.673  0.798"
      ]
     },
     "execution_count": 89,
     "metadata": {},
     "output_type": "execute_result"
    }
   ],
   "source": [
    "metricas_modelos('pipe_0', y_test, y_pred, y_pred_proba)"
   ]
  },
  {
   "cell_type": "markdown",
   "id": "04e27dc5",
   "metadata": {},
   "source": [
    "***Pipe con RandomForest con GridSearchCV***"
   ]
  },
  {
   "cell_type": "code",
   "execution_count": 90,
   "id": "ffdc493b",
   "metadata": {},
   "outputs": [
    {
     "data": {
      "text/plain": [
       "GridSearchCV(cv=StratifiedKFold(n_splits=3, random_state=0, shuffle=True),\n",
       "             estimator=Pipeline(steps=[('scaler', StandardScaler()),\n",
       "                                       ('RFC', RandomForestClassifier())]),\n",
       "             param_grid={'RFC__max_depth': [6, 8, 10, 15],\n",
       "                         'RFC__n_estimators': [50, 100, 200, 300]})"
      ]
     },
     "execution_count": 90,
     "metadata": {},
     "output_type": "execute_result"
    }
   ],
   "source": [
    "pipe = Pipeline(pasos)\n",
    "params_pipe = {'RFC__n_estimators': [50, 100, 200, 300],'RFC__max_depth': [6, 8, 10, 15]}\n",
    "grid_1 = GridSearchCV(pipe, params_pipe, cv = skf)\n",
    "grid_1.fit(X_train, y_train)"
   ]
  },
  {
   "cell_type": "code",
   "execution_count": 91,
   "id": "f66dbb70",
   "metadata": {},
   "outputs": [
    {
     "data": {
      "text/plain": [
       "Pipeline(steps=[('scaler', StandardScaler()),\n",
       "                ('RFC',\n",
       "                 RandomForestClassifier(max_depth=10, n_estimators=300))])"
      ]
     },
     "execution_count": 91,
     "metadata": {},
     "output_type": "execute_result"
    }
   ],
   "source": [
    "grid_1.best_estimator_"
   ]
  },
  {
   "cell_type": "code",
   "execution_count": 92,
   "id": "e1142260",
   "metadata": {},
   "outputs": [
    {
     "data": {
      "text/html": [
       "<div>\n",
       "<style scoped>\n",
       "    .dataframe tbody tr th:only-of-type {\n",
       "        vertical-align: middle;\n",
       "    }\n",
       "\n",
       "    .dataframe tbody tr th {\n",
       "        vertical-align: top;\n",
       "    }\n",
       "\n",
       "    .dataframe thead th {\n",
       "        text-align: right;\n",
       "    }\n",
       "</style>\n",
       "<table border=\"1\" class=\"dataframe\">\n",
       "  <thead>\n",
       "    <tr style=\"text-align: right;\">\n",
       "      <th></th>\n",
       "      <th>accuracy</th>\n",
       "      <th>recall</th>\n",
       "      <th>precision</th>\n",
       "      <th>f1_score</th>\n",
       "      <th>AUC</th>\n",
       "    </tr>\n",
       "  </thead>\n",
       "  <tbody>\n",
       "    <tr>\n",
       "      <th>RFC</th>\n",
       "      <td>0.715</td>\n",
       "      <td>0.655</td>\n",
       "      <td>0.731</td>\n",
       "      <td>0.691</td>\n",
       "      <td>0.808</td>\n",
       "    </tr>\n",
       "    <tr>\n",
       "      <th>RFC_best</th>\n",
       "      <td>0.715</td>\n",
       "      <td>0.655</td>\n",
       "      <td>0.731</td>\n",
       "      <td>0.691</td>\n",
       "      <td>0.808</td>\n",
       "    </tr>\n",
       "    <tr>\n",
       "      <th>RFC_red</th>\n",
       "      <td>0.685</td>\n",
       "      <td>0.638</td>\n",
       "      <td>0.690</td>\n",
       "      <td>0.663</td>\n",
       "      <td>0.777</td>\n",
       "    </tr>\n",
       "    <tr>\n",
       "      <th>RFECV</th>\n",
       "      <td>0.686</td>\n",
       "      <td>0.668</td>\n",
       "      <td>0.680</td>\n",
       "      <td>0.674</td>\n",
       "      <td>0.752</td>\n",
       "    </tr>\n",
       "    <tr>\n",
       "      <th>ABoost</th>\n",
       "      <td>0.717</td>\n",
       "      <td>0.693</td>\n",
       "      <td>0.715</td>\n",
       "      <td>0.704</td>\n",
       "      <td>0.790</td>\n",
       "    </tr>\n",
       "    <tr>\n",
       "      <th>GBoost</th>\n",
       "      <td>0.714</td>\n",
       "      <td>0.667</td>\n",
       "      <td>0.723</td>\n",
       "      <td>0.694</td>\n",
       "      <td>0.793</td>\n",
       "    </tr>\n",
       "    <tr>\n",
       "      <th>XGBoost</th>\n",
       "      <td>0.715</td>\n",
       "      <td>0.662</td>\n",
       "      <td>0.727</td>\n",
       "      <td>0.693</td>\n",
       "      <td>0.801</td>\n",
       "    </tr>\n",
       "    <tr>\n",
       "      <th>LGBM</th>\n",
       "      <td>0.716</td>\n",
       "      <td>0.669</td>\n",
       "      <td>0.725</td>\n",
       "      <td>0.696</td>\n",
       "      <td>0.802</td>\n",
       "    </tr>\n",
       "    <tr>\n",
       "      <th>pipe_0</th>\n",
       "      <td>0.699</td>\n",
       "      <td>0.637</td>\n",
       "      <td>0.713</td>\n",
       "      <td>0.673</td>\n",
       "      <td>0.798</td>\n",
       "    </tr>\n",
       "    <tr>\n",
       "      <th>pipe_RFC</th>\n",
       "      <td>0.717</td>\n",
       "      <td>0.666</td>\n",
       "      <td>0.728</td>\n",
       "      <td>0.695</td>\n",
       "      <td>0.808</td>\n",
       "    </tr>\n",
       "  </tbody>\n",
       "</table>\n",
       "</div>"
      ],
      "text/plain": [
       "          accuracy  recall  precision  f1_score    AUC\n",
       "RFC          0.715   0.655      0.731     0.691  0.808\n",
       "RFC_best     0.715   0.655      0.731     0.691  0.808\n",
       "RFC_red      0.685   0.638      0.690     0.663  0.777\n",
       "RFECV        0.686   0.668      0.680     0.674  0.752\n",
       "ABoost       0.717   0.693      0.715     0.704  0.790\n",
       "GBoost       0.714   0.667      0.723     0.694  0.793\n",
       "XGBoost      0.715   0.662      0.727     0.693  0.801\n",
       "LGBM         0.716   0.669      0.725     0.696  0.802\n",
       "pipe_0       0.699   0.637      0.713     0.673  0.798\n",
       "pipe_RFC     0.717   0.666      0.728     0.695  0.808"
      ]
     },
     "execution_count": 92,
     "metadata": {},
     "output_type": "execute_result"
    }
   ],
   "source": [
    "y_pred =grid_1.best_estimator_.predict(X_test)\n",
    "y_pred_proba = grid_1.best_estimator_.predict_proba(X_test)\n",
    "metricas_modelos('pipe_RFC', y_test, y_pred, y_pred_proba)"
   ]
  },
  {
   "cell_type": "markdown",
   "id": "6b97f52f",
   "metadata": {},
   "source": [
    "***Pipe con dos opciones de escaladores, RandomForest con GridSearchCV***"
   ]
  },
  {
   "cell_type": "code",
   "execution_count": 93,
   "id": "78c45c15",
   "metadata": {},
   "outputs": [
    {
     "data": {
      "text/plain": [
       "GridSearchCV(cv=StratifiedKFold(n_splits=3, random_state=0, shuffle=True),\n",
       "             estimator=Pipeline(steps=[('scaler', StandardScaler()),\n",
       "                                       ('RFC', RandomForestClassifier())]),\n",
       "             param_grid=[{'RFC__max_depth': [6, 8, 10, 15],\n",
       "                          'RFC__n_estimators': [50, 100, 150, 200],\n",
       "                          'scaler': [StandardScaler(), MinMaxScaler()]}])"
      ]
     },
     "execution_count": 93,
     "metadata": {},
     "output_type": "execute_result"
    }
   ],
   "source": [
    "pasos = [('scaler', StandardScaler()), ('RFC', RandomForestClassifier())]\n",
    "new_params_pipe = [{'scaler': [StandardScaler(), MinMaxScaler()],'RFC__n_estimators': [50, 100, 150, 200], 'RFC__max_depth': [6,8,10,15]}]\n",
    "grid_2 = GridSearchCV(pipe, new_params_pipe, cv = skf)\n",
    "grid_2.fit(X_train, y_train)"
   ]
  },
  {
   "cell_type": "code",
   "execution_count": 94,
   "id": "504d5ea4",
   "metadata": {},
   "outputs": [
    {
     "data": {
      "text/plain": [
       "Pipeline(steps=[('scaler', MinMaxScaler()),\n",
       "                ('RFC', RandomForestClassifier(max_depth=8))])"
      ]
     },
     "execution_count": 94,
     "metadata": {},
     "output_type": "execute_result"
    }
   ],
   "source": [
    "grid_2.best_estimator_"
   ]
  },
  {
   "cell_type": "code",
   "execution_count": 95,
   "id": "b7fecb1b",
   "metadata": {},
   "outputs": [
    {
     "data": {
      "text/html": [
       "<div>\n",
       "<style scoped>\n",
       "    .dataframe tbody tr th:only-of-type {\n",
       "        vertical-align: middle;\n",
       "    }\n",
       "\n",
       "    .dataframe tbody tr th {\n",
       "        vertical-align: top;\n",
       "    }\n",
       "\n",
       "    .dataframe thead th {\n",
       "        text-align: right;\n",
       "    }\n",
       "</style>\n",
       "<table border=\"1\" class=\"dataframe\">\n",
       "  <thead>\n",
       "    <tr style=\"text-align: right;\">\n",
       "      <th></th>\n",
       "      <th>accuracy</th>\n",
       "      <th>recall</th>\n",
       "      <th>precision</th>\n",
       "      <th>f1_score</th>\n",
       "      <th>AUC</th>\n",
       "    </tr>\n",
       "  </thead>\n",
       "  <tbody>\n",
       "    <tr>\n",
       "      <th>RFC</th>\n",
       "      <td>0.715</td>\n",
       "      <td>0.655</td>\n",
       "      <td>0.731</td>\n",
       "      <td>0.691</td>\n",
       "      <td>0.808</td>\n",
       "    </tr>\n",
       "    <tr>\n",
       "      <th>RFC_best</th>\n",
       "      <td>0.715</td>\n",
       "      <td>0.655</td>\n",
       "      <td>0.731</td>\n",
       "      <td>0.691</td>\n",
       "      <td>0.808</td>\n",
       "    </tr>\n",
       "    <tr>\n",
       "      <th>RFC_red</th>\n",
       "      <td>0.685</td>\n",
       "      <td>0.638</td>\n",
       "      <td>0.690</td>\n",
       "      <td>0.663</td>\n",
       "      <td>0.777</td>\n",
       "    </tr>\n",
       "    <tr>\n",
       "      <th>RFECV</th>\n",
       "      <td>0.686</td>\n",
       "      <td>0.668</td>\n",
       "      <td>0.680</td>\n",
       "      <td>0.674</td>\n",
       "      <td>0.752</td>\n",
       "    </tr>\n",
       "    <tr>\n",
       "      <th>ABoost</th>\n",
       "      <td>0.717</td>\n",
       "      <td>0.693</td>\n",
       "      <td>0.715</td>\n",
       "      <td>0.704</td>\n",
       "      <td>0.790</td>\n",
       "    </tr>\n",
       "    <tr>\n",
       "      <th>GBoost</th>\n",
       "      <td>0.714</td>\n",
       "      <td>0.667</td>\n",
       "      <td>0.723</td>\n",
       "      <td>0.694</td>\n",
       "      <td>0.793</td>\n",
       "    </tr>\n",
       "    <tr>\n",
       "      <th>XGBoost</th>\n",
       "      <td>0.715</td>\n",
       "      <td>0.662</td>\n",
       "      <td>0.727</td>\n",
       "      <td>0.693</td>\n",
       "      <td>0.801</td>\n",
       "    </tr>\n",
       "    <tr>\n",
       "      <th>LGBM</th>\n",
       "      <td>0.716</td>\n",
       "      <td>0.669</td>\n",
       "      <td>0.725</td>\n",
       "      <td>0.696</td>\n",
       "      <td>0.802</td>\n",
       "    </tr>\n",
       "    <tr>\n",
       "      <th>pipe_0</th>\n",
       "      <td>0.699</td>\n",
       "      <td>0.637</td>\n",
       "      <td>0.713</td>\n",
       "      <td>0.673</td>\n",
       "      <td>0.798</td>\n",
       "    </tr>\n",
       "    <tr>\n",
       "      <th>pipe_RFC</th>\n",
       "      <td>0.717</td>\n",
       "      <td>0.666</td>\n",
       "      <td>0.728</td>\n",
       "      <td>0.695</td>\n",
       "      <td>0.808</td>\n",
       "    </tr>\n",
       "    <tr>\n",
       "      <th>pipe_RFC_sc_2</th>\n",
       "      <td>0.709</td>\n",
       "      <td>0.648</td>\n",
       "      <td>0.724</td>\n",
       "      <td>0.684</td>\n",
       "      <td>0.805</td>\n",
       "    </tr>\n",
       "  </tbody>\n",
       "</table>\n",
       "</div>"
      ],
      "text/plain": [
       "               accuracy  recall  precision  f1_score    AUC\n",
       "RFC               0.715   0.655      0.731     0.691  0.808\n",
       "RFC_best          0.715   0.655      0.731     0.691  0.808\n",
       "RFC_red           0.685   0.638      0.690     0.663  0.777\n",
       "RFECV             0.686   0.668      0.680     0.674  0.752\n",
       "ABoost            0.717   0.693      0.715     0.704  0.790\n",
       "GBoost            0.714   0.667      0.723     0.694  0.793\n",
       "XGBoost           0.715   0.662      0.727     0.693  0.801\n",
       "LGBM              0.716   0.669      0.725     0.696  0.802\n",
       "pipe_0            0.699   0.637      0.713     0.673  0.798\n",
       "pipe_RFC          0.717   0.666      0.728     0.695  0.808\n",
       "pipe_RFC_sc_2     0.709   0.648      0.724     0.684  0.805"
      ]
     },
     "execution_count": 95,
     "metadata": {},
     "output_type": "execute_result"
    }
   ],
   "source": [
    "y_pred = grid_2.best_estimator_.predict(X_test)\n",
    "y_pred_proba = grid_2.best_estimator_.predict_proba(X_test)\n",
    "metricas_modelos('pipe_RFC_sc_2', y_test, y_pred, y_pred_proba)"
   ]
  },
  {
   "cell_type": "markdown",
   "id": "da0a1f06",
   "metadata": {},
   "source": [
    "***Pipe con selección de features (sin registros de presión arterial), escalado, RandomForest con GridSearchCV***"
   ]
  },
  {
   "cell_type": "code",
   "execution_count": 96,
   "id": "5fe342af",
   "metadata": {},
   "outputs": [],
   "source": [
    "class FeatureSelection(BaseEstimator, TransformerMixin):\n",
    "    \n",
    "    def __init__(self,selected_features):\n",
    "        self.selected_features = selected_features\n",
    "    \n",
    "    def fit(self,X,y = None):\n",
    "        return self\n",
    "    \n",
    "    def transform(self, X, y = None):\n",
    "        return X[self.selected_features]"
   ]
  },
  {
   "cell_type": "code",
   "execution_count": 97,
   "id": "8c4a98d1",
   "metadata": {},
   "outputs": [
    {
     "data": {
      "text/plain": [
       "GridSearchCV(cv=StratifiedKFold(n_splits=3, random_state=0, shuffle=True),\n",
       "             estimator=Pipeline(steps=[('feature_engineering',\n",
       "                                        FeatureSelection(selected_features=['CLEARANCE',\n",
       "                                                                            'EDAD',\n",
       "                                                                            'OBESIDAD_SI',\n",
       "                                                                            'COLESTEROL_TOTAL',\n",
       "                                                                            'DIABETES_NO',\n",
       "                                                                            'DIABETES_DM2'])),\n",
       "                                       ('scaler', MinMaxScaler()),\n",
       "                                       ('RFC', RandomForestClassifier())]),\n",
       "             param_grid=[{'RFC__max_depth': [6, 8, 10],\n",
       "                          'RFC__n_estimators': [50, 100, 150],\n",
       "                          'scaler': [StandardScaler(), MinMaxScaler()]}])"
      ]
     },
     "execution_count": 97,
     "metadata": {},
     "output_type": "execute_result"
    }
   ],
   "source": [
    "selection = FeatureSelection(selected_features=['CLEARANCE', 'EDAD', 'OBESIDAD_SI', 'COLESTEROL_TOTAL', 'DIABETES_NO', 'DIABETES_DM2'])\n",
    "pasos = [('feature_engineering', selection),('scaler', MinMaxScaler()),('RFC', RandomForestClassifier())]\n",
    "pipe = Pipeline(pasos)\n",
    "param_grid = [{'scaler': [StandardScaler(), MinMaxScaler()], 'RFC__n_estimators': [50,100,150], 'RFC__max_depth': [6,8,10]}]\n",
    "grid_3 = GridSearchCV(pipe, param_grid, cv = skf)\n",
    "\n",
    "grid_3.fit(X_train, y_train)"
   ]
  },
  {
   "cell_type": "code",
   "execution_count": 98,
   "id": "5c34eaff",
   "metadata": {},
   "outputs": [
    {
     "data": {
      "text/plain": [
       "Pipeline(steps=[('feature_engineering',\n",
       "                 FeatureSelection(selected_features=['CLEARANCE', 'EDAD',\n",
       "                                                     'OBESIDAD_SI',\n",
       "                                                     'COLESTEROL_TOTAL',\n",
       "                                                     'DIABETES_NO',\n",
       "                                                     'DIABETES_DM2'])),\n",
       "                ('scaler', MinMaxScaler()),\n",
       "                ('RFC', RandomForestClassifier(max_depth=6, n_estimators=150))])"
      ]
     },
     "execution_count": 98,
     "metadata": {},
     "output_type": "execute_result"
    }
   ],
   "source": [
    "grid_3.best_estimator_"
   ]
  },
  {
   "cell_type": "code",
   "execution_count": 99,
   "id": "307c3b59",
   "metadata": {},
   "outputs": [
    {
     "data": {
      "text/html": [
       "<div>\n",
       "<style scoped>\n",
       "    .dataframe tbody tr th:only-of-type {\n",
       "        vertical-align: middle;\n",
       "    }\n",
       "\n",
       "    .dataframe tbody tr th {\n",
       "        vertical-align: top;\n",
       "    }\n",
       "\n",
       "    .dataframe thead th {\n",
       "        text-align: right;\n",
       "    }\n",
       "</style>\n",
       "<table border=\"1\" class=\"dataframe\">\n",
       "  <thead>\n",
       "    <tr style=\"text-align: right;\">\n",
       "      <th></th>\n",
       "      <th>accuracy</th>\n",
       "      <th>recall</th>\n",
       "      <th>precision</th>\n",
       "      <th>f1_score</th>\n",
       "      <th>AUC</th>\n",
       "    </tr>\n",
       "  </thead>\n",
       "  <tbody>\n",
       "    <tr>\n",
       "      <th>RFC</th>\n",
       "      <td>0.715</td>\n",
       "      <td>0.655</td>\n",
       "      <td>0.731</td>\n",
       "      <td>0.691</td>\n",
       "      <td>0.808</td>\n",
       "    </tr>\n",
       "    <tr>\n",
       "      <th>RFC_best</th>\n",
       "      <td>0.715</td>\n",
       "      <td>0.655</td>\n",
       "      <td>0.731</td>\n",
       "      <td>0.691</td>\n",
       "      <td>0.808</td>\n",
       "    </tr>\n",
       "    <tr>\n",
       "      <th>RFC_red</th>\n",
       "      <td>0.685</td>\n",
       "      <td>0.638</td>\n",
       "      <td>0.690</td>\n",
       "      <td>0.663</td>\n",
       "      <td>0.777</td>\n",
       "    </tr>\n",
       "    <tr>\n",
       "      <th>RFECV</th>\n",
       "      <td>0.686</td>\n",
       "      <td>0.668</td>\n",
       "      <td>0.680</td>\n",
       "      <td>0.674</td>\n",
       "      <td>0.752</td>\n",
       "    </tr>\n",
       "    <tr>\n",
       "      <th>ABoost</th>\n",
       "      <td>0.717</td>\n",
       "      <td>0.693</td>\n",
       "      <td>0.715</td>\n",
       "      <td>0.704</td>\n",
       "      <td>0.790</td>\n",
       "    </tr>\n",
       "    <tr>\n",
       "      <th>GBoost</th>\n",
       "      <td>0.714</td>\n",
       "      <td>0.667</td>\n",
       "      <td>0.723</td>\n",
       "      <td>0.694</td>\n",
       "      <td>0.793</td>\n",
       "    </tr>\n",
       "    <tr>\n",
       "      <th>XGBoost</th>\n",
       "      <td>0.715</td>\n",
       "      <td>0.662</td>\n",
       "      <td>0.727</td>\n",
       "      <td>0.693</td>\n",
       "      <td>0.801</td>\n",
       "    </tr>\n",
       "    <tr>\n",
       "      <th>LGBM</th>\n",
       "      <td>0.716</td>\n",
       "      <td>0.669</td>\n",
       "      <td>0.725</td>\n",
       "      <td>0.696</td>\n",
       "      <td>0.802</td>\n",
       "    </tr>\n",
       "    <tr>\n",
       "      <th>pipe_0</th>\n",
       "      <td>0.699</td>\n",
       "      <td>0.637</td>\n",
       "      <td>0.713</td>\n",
       "      <td>0.673</td>\n",
       "      <td>0.798</td>\n",
       "    </tr>\n",
       "    <tr>\n",
       "      <th>pipe_RFC</th>\n",
       "      <td>0.717</td>\n",
       "      <td>0.666</td>\n",
       "      <td>0.728</td>\n",
       "      <td>0.695</td>\n",
       "      <td>0.808</td>\n",
       "    </tr>\n",
       "    <tr>\n",
       "      <th>pipe_RFC_sc_2</th>\n",
       "      <td>0.709</td>\n",
       "      <td>0.648</td>\n",
       "      <td>0.724</td>\n",
       "      <td>0.684</td>\n",
       "      <td>0.805</td>\n",
       "    </tr>\n",
       "    <tr>\n",
       "      <th>pipe_RFC_select</th>\n",
       "      <td>0.684</td>\n",
       "      <td>0.630</td>\n",
       "      <td>0.692</td>\n",
       "      <td>0.660</td>\n",
       "      <td>0.748</td>\n",
       "    </tr>\n",
       "  </tbody>\n",
       "</table>\n",
       "</div>"
      ],
      "text/plain": [
       "                 accuracy  recall  precision  f1_score    AUC\n",
       "RFC                 0.715   0.655      0.731     0.691  0.808\n",
       "RFC_best            0.715   0.655      0.731     0.691  0.808\n",
       "RFC_red             0.685   0.638      0.690     0.663  0.777\n",
       "RFECV               0.686   0.668      0.680     0.674  0.752\n",
       "ABoost              0.717   0.693      0.715     0.704  0.790\n",
       "GBoost              0.714   0.667      0.723     0.694  0.793\n",
       "XGBoost             0.715   0.662      0.727     0.693  0.801\n",
       "LGBM                0.716   0.669      0.725     0.696  0.802\n",
       "pipe_0              0.699   0.637      0.713     0.673  0.798\n",
       "pipe_RFC            0.717   0.666      0.728     0.695  0.808\n",
       "pipe_RFC_sc_2       0.709   0.648      0.724     0.684  0.805\n",
       "pipe_RFC_select     0.684   0.630      0.692     0.660  0.748"
      ]
     },
     "metadata": {},
     "output_type": "display_data"
    }
   ],
   "source": [
    "y_pred = grid_3.best_estimator_.predict(X_test)\n",
    "y_pred_proba = grid_3.best_estimator_.predict_proba(X_test)\n",
    "metricas = metricas_modelos('pipe_RFC_select', y_test, y_pred, y_pred_proba)\n",
    "display(metricas)"
   ]
  },
  {
   "cell_type": "markdown",
   "id": "97c91550",
   "metadata": {},
   "source": [
    "***Pipe y Regresión Logística con feature promedio de presión arterial***"
   ]
  },
  {
   "cell_type": "code",
   "execution_count": 100,
   "id": "d2e18d32",
   "metadata": {},
   "outputs": [
    {
     "data": {
      "text/plain": [
       "Pipeline(steps=[('standardscaler', StandardScaler()),\n",
       "                ('logisticregression', LogisticRegression())])"
      ]
     },
     "execution_count": 100,
     "metadata": {},
     "output_type": "execute_result"
    }
   ],
   "source": [
    "df_pipe=data[['TAS','TAD','SEXO', 'DIABETES', 'DISLIPEMIA', 'OBESIDAD','UTMO_IMC', 'CLASIFICACION_IMC', 'CLEARANCE','COLESTEROL_TOTAL','EDAD','ENF.CARDIOVASCULAR_ESTABLECIDA','HIPERTENSION']]\n",
    "\n",
    "# se eliminan registros con nans\n",
    "df_pipe = df_pipe.dropna()\n",
    "df_pipe_40 = df_pipe[df_pipe['EDAD'] >= 40]\n",
    "df_pipe_40['nueva'] = (df_pipe_40['TAS'] + df_pipe_40['TAD'])/2\n",
    "df_pipe_40 = df_pipe_40.drop(['TAS','TAD'], axis=1)\n",
    "\n",
    "df_pipe_40 = pd.get_dummies(df_pipe_40, prefix =['SEXO', 'DIABETES', 'DISLIPEMIA', 'OBESIDAD','CLASIFICACION_IMC','ENF.CARDIOVASCULAR_ESTABLECIDA','HIPERTENSION'], columns=['SEXO', 'DIABETES', 'DISLIPEMIA', 'OBESIDAD','CLASIFICACION_IMC','ENF.CARDIOVASCULAR_ESTABLECIDA','HIPERTENSION'],drop_first = True)\n",
    "\n",
    "X = df_pipe_40.drop('HIPERTENSION_SI',axis=1)\n",
    "y = df_pipe_40['HIPERTENSION_SI']\n",
    "\n",
    "X_train, X_test, y_train, y_test = train_test_split(X, y,test_size = 0.15,stratify = y, random_state = 0)\n",
    "pipe_40 = make_pipeline(StandardScaler(), LogisticRegression())\n",
    "pipe_40.fit(X_train, y_train)"
   ]
  },
  {
   "cell_type": "code",
   "execution_count": 101,
   "id": "8c5df5d2",
   "metadata": {},
   "outputs": [
    {
     "data": {
      "text/html": [
       "<div>\n",
       "<style scoped>\n",
       "    .dataframe tbody tr th:only-of-type {\n",
       "        vertical-align: middle;\n",
       "    }\n",
       "\n",
       "    .dataframe tbody tr th {\n",
       "        vertical-align: top;\n",
       "    }\n",
       "\n",
       "    .dataframe thead th {\n",
       "        text-align: right;\n",
       "    }\n",
       "</style>\n",
       "<table border=\"1\" class=\"dataframe\">\n",
       "  <thead>\n",
       "    <tr style=\"text-align: right;\">\n",
       "      <th></th>\n",
       "      <th>accuracy</th>\n",
       "      <th>recall</th>\n",
       "      <th>precision</th>\n",
       "      <th>f1_score</th>\n",
       "      <th>AUC</th>\n",
       "    </tr>\n",
       "  </thead>\n",
       "  <tbody>\n",
       "    <tr>\n",
       "      <th>RFC</th>\n",
       "      <td>0.715</td>\n",
       "      <td>0.655</td>\n",
       "      <td>0.731</td>\n",
       "      <td>0.691</td>\n",
       "      <td>0.808</td>\n",
       "    </tr>\n",
       "    <tr>\n",
       "      <th>RFC_best</th>\n",
       "      <td>0.715</td>\n",
       "      <td>0.655</td>\n",
       "      <td>0.731</td>\n",
       "      <td>0.691</td>\n",
       "      <td>0.808</td>\n",
       "    </tr>\n",
       "    <tr>\n",
       "      <th>RFC_red</th>\n",
       "      <td>0.685</td>\n",
       "      <td>0.638</td>\n",
       "      <td>0.690</td>\n",
       "      <td>0.663</td>\n",
       "      <td>0.777</td>\n",
       "    </tr>\n",
       "    <tr>\n",
       "      <th>RFECV</th>\n",
       "      <td>0.686</td>\n",
       "      <td>0.668</td>\n",
       "      <td>0.680</td>\n",
       "      <td>0.674</td>\n",
       "      <td>0.752</td>\n",
       "    </tr>\n",
       "    <tr>\n",
       "      <th>ABoost</th>\n",
       "      <td>0.717</td>\n",
       "      <td>0.693</td>\n",
       "      <td>0.715</td>\n",
       "      <td>0.704</td>\n",
       "      <td>0.790</td>\n",
       "    </tr>\n",
       "    <tr>\n",
       "      <th>GBoost</th>\n",
       "      <td>0.714</td>\n",
       "      <td>0.667</td>\n",
       "      <td>0.723</td>\n",
       "      <td>0.694</td>\n",
       "      <td>0.793</td>\n",
       "    </tr>\n",
       "    <tr>\n",
       "      <th>XGBoost</th>\n",
       "      <td>0.715</td>\n",
       "      <td>0.662</td>\n",
       "      <td>0.727</td>\n",
       "      <td>0.693</td>\n",
       "      <td>0.801</td>\n",
       "    </tr>\n",
       "    <tr>\n",
       "      <th>LGBM</th>\n",
       "      <td>0.716</td>\n",
       "      <td>0.669</td>\n",
       "      <td>0.725</td>\n",
       "      <td>0.696</td>\n",
       "      <td>0.802</td>\n",
       "    </tr>\n",
       "    <tr>\n",
       "      <th>pipe_0</th>\n",
       "      <td>0.699</td>\n",
       "      <td>0.637</td>\n",
       "      <td>0.713</td>\n",
       "      <td>0.673</td>\n",
       "      <td>0.798</td>\n",
       "    </tr>\n",
       "    <tr>\n",
       "      <th>pipe_RFC</th>\n",
       "      <td>0.717</td>\n",
       "      <td>0.666</td>\n",
       "      <td>0.728</td>\n",
       "      <td>0.695</td>\n",
       "      <td>0.808</td>\n",
       "    </tr>\n",
       "    <tr>\n",
       "      <th>pipe_RFC_sc_2</th>\n",
       "      <td>0.709</td>\n",
       "      <td>0.648</td>\n",
       "      <td>0.724</td>\n",
       "      <td>0.684</td>\n",
       "      <td>0.805</td>\n",
       "    </tr>\n",
       "    <tr>\n",
       "      <th>pipe_RFC_select</th>\n",
       "      <td>0.684</td>\n",
       "      <td>0.630</td>\n",
       "      <td>0.692</td>\n",
       "      <td>0.660</td>\n",
       "      <td>0.748</td>\n",
       "    </tr>\n",
       "    <tr>\n",
       "      <th>pipe_RL</th>\n",
       "      <td>0.684</td>\n",
       "      <td>0.637</td>\n",
       "      <td>0.691</td>\n",
       "      <td>0.663</td>\n",
       "      <td>0.747</td>\n",
       "    </tr>\n",
       "  </tbody>\n",
       "</table>\n",
       "</div>"
      ],
      "text/plain": [
       "                 accuracy  recall  precision  f1_score    AUC\n",
       "RFC                 0.715   0.655      0.731     0.691  0.808\n",
       "RFC_best            0.715   0.655      0.731     0.691  0.808\n",
       "RFC_red             0.685   0.638      0.690     0.663  0.777\n",
       "RFECV               0.686   0.668      0.680     0.674  0.752\n",
       "ABoost              0.717   0.693      0.715     0.704  0.790\n",
       "GBoost              0.714   0.667      0.723     0.694  0.793\n",
       "XGBoost             0.715   0.662      0.727     0.693  0.801\n",
       "LGBM                0.716   0.669      0.725     0.696  0.802\n",
       "pipe_0              0.699   0.637      0.713     0.673  0.798\n",
       "pipe_RFC            0.717   0.666      0.728     0.695  0.808\n",
       "pipe_RFC_sc_2       0.709   0.648      0.724     0.684  0.805\n",
       "pipe_RFC_select     0.684   0.630      0.692     0.660  0.748\n",
       "pipe_RL             0.684   0.637      0.691     0.663  0.747"
      ]
     },
     "execution_count": 101,
     "metadata": {},
     "output_type": "execute_result"
    }
   ],
   "source": [
    "y_pred = pipe_40.predict(X_test)\n",
    "y_pred_proba = pipe_40.predict_proba(X_test)\n",
    "metricas_modelos('pipe_RL', y_test, y_pred, y_pred_proba)"
   ]
  },
  {
   "cell_type": "markdown",
   "id": "60053955",
   "metadata": {},
   "source": [
    "***Pipe con Regresión Logística con feature promedio de presion arterial con Grid Search***"
   ]
  },
  {
   "cell_type": "code",
   "execution_count": 102,
   "id": "dcc14d02",
   "metadata": {},
   "outputs": [
    {
     "data": {
      "text/plain": [
       "{'logisticregression__C': 0.01}"
      ]
     },
     "execution_count": 102,
     "metadata": {},
     "output_type": "execute_result"
    }
   ],
   "source": [
    "params_grid = {\"logisticregression__C\": [0.01, 0.1, 1, 10, 100]}\n",
    "pipe_RL_CV = GridSearchCV(pipe_40, params_grid, cv = 10)\n",
    "pipe_RL_CV.fit(X_train, y_train)\n",
    "pipe_RL_CV.best_params_"
   ]
  },
  {
   "cell_type": "code",
   "execution_count": 103,
   "id": "a8f3c85e",
   "metadata": {},
   "outputs": [
    {
     "data": {
      "text/html": [
       "<div>\n",
       "<style scoped>\n",
       "    .dataframe tbody tr th:only-of-type {\n",
       "        vertical-align: middle;\n",
       "    }\n",
       "\n",
       "    .dataframe tbody tr th {\n",
       "        vertical-align: top;\n",
       "    }\n",
       "\n",
       "    .dataframe thead th {\n",
       "        text-align: right;\n",
       "    }\n",
       "</style>\n",
       "<table border=\"1\" class=\"dataframe\">\n",
       "  <thead>\n",
       "    <tr style=\"text-align: right;\">\n",
       "      <th></th>\n",
       "      <th>accuracy</th>\n",
       "      <th>recall</th>\n",
       "      <th>precision</th>\n",
       "      <th>f1_score</th>\n",
       "      <th>AUC</th>\n",
       "    </tr>\n",
       "  </thead>\n",
       "  <tbody>\n",
       "    <tr>\n",
       "      <th>RFC</th>\n",
       "      <td>0.715</td>\n",
       "      <td>0.655</td>\n",
       "      <td>0.731</td>\n",
       "      <td>0.691</td>\n",
       "      <td>0.808</td>\n",
       "    </tr>\n",
       "    <tr>\n",
       "      <th>RFC_best</th>\n",
       "      <td>0.715</td>\n",
       "      <td>0.655</td>\n",
       "      <td>0.731</td>\n",
       "      <td>0.691</td>\n",
       "      <td>0.808</td>\n",
       "    </tr>\n",
       "    <tr>\n",
       "      <th>RFC_red</th>\n",
       "      <td>0.685</td>\n",
       "      <td>0.638</td>\n",
       "      <td>0.690</td>\n",
       "      <td>0.663</td>\n",
       "      <td>0.777</td>\n",
       "    </tr>\n",
       "    <tr>\n",
       "      <th>RFECV</th>\n",
       "      <td>0.686</td>\n",
       "      <td>0.668</td>\n",
       "      <td>0.680</td>\n",
       "      <td>0.674</td>\n",
       "      <td>0.752</td>\n",
       "    </tr>\n",
       "    <tr>\n",
       "      <th>ABoost</th>\n",
       "      <td>0.717</td>\n",
       "      <td>0.693</td>\n",
       "      <td>0.715</td>\n",
       "      <td>0.704</td>\n",
       "      <td>0.790</td>\n",
       "    </tr>\n",
       "    <tr>\n",
       "      <th>GBoost</th>\n",
       "      <td>0.714</td>\n",
       "      <td>0.667</td>\n",
       "      <td>0.723</td>\n",
       "      <td>0.694</td>\n",
       "      <td>0.793</td>\n",
       "    </tr>\n",
       "    <tr>\n",
       "      <th>XGBoost</th>\n",
       "      <td>0.715</td>\n",
       "      <td>0.662</td>\n",
       "      <td>0.727</td>\n",
       "      <td>0.693</td>\n",
       "      <td>0.801</td>\n",
       "    </tr>\n",
       "    <tr>\n",
       "      <th>LGBM</th>\n",
       "      <td>0.716</td>\n",
       "      <td>0.669</td>\n",
       "      <td>0.725</td>\n",
       "      <td>0.696</td>\n",
       "      <td>0.802</td>\n",
       "    </tr>\n",
       "    <tr>\n",
       "      <th>pipe_0</th>\n",
       "      <td>0.699</td>\n",
       "      <td>0.637</td>\n",
       "      <td>0.713</td>\n",
       "      <td>0.673</td>\n",
       "      <td>0.798</td>\n",
       "    </tr>\n",
       "    <tr>\n",
       "      <th>pipe_RFC</th>\n",
       "      <td>0.717</td>\n",
       "      <td>0.666</td>\n",
       "      <td>0.728</td>\n",
       "      <td>0.695</td>\n",
       "      <td>0.808</td>\n",
       "    </tr>\n",
       "    <tr>\n",
       "      <th>pipe_RFC_sc_2</th>\n",
       "      <td>0.709</td>\n",
       "      <td>0.648</td>\n",
       "      <td>0.724</td>\n",
       "      <td>0.684</td>\n",
       "      <td>0.805</td>\n",
       "    </tr>\n",
       "    <tr>\n",
       "      <th>pipe_RFC_select</th>\n",
       "      <td>0.684</td>\n",
       "      <td>0.630</td>\n",
       "      <td>0.692</td>\n",
       "      <td>0.660</td>\n",
       "      <td>0.748</td>\n",
       "    </tr>\n",
       "    <tr>\n",
       "      <th>pipe_RL</th>\n",
       "      <td>0.684</td>\n",
       "      <td>0.637</td>\n",
       "      <td>0.691</td>\n",
       "      <td>0.663</td>\n",
       "      <td>0.747</td>\n",
       "    </tr>\n",
       "    <tr>\n",
       "      <th>pipe_RL_CV</th>\n",
       "      <td>0.684</td>\n",
       "      <td>0.634</td>\n",
       "      <td>0.691</td>\n",
       "      <td>0.661</td>\n",
       "      <td>0.746</td>\n",
       "    </tr>\n",
       "  </tbody>\n",
       "</table>\n",
       "</div>"
      ],
      "text/plain": [
       "                 accuracy  recall  precision  f1_score    AUC\n",
       "RFC                 0.715   0.655      0.731     0.691  0.808\n",
       "RFC_best            0.715   0.655      0.731     0.691  0.808\n",
       "RFC_red             0.685   0.638      0.690     0.663  0.777\n",
       "RFECV               0.686   0.668      0.680     0.674  0.752\n",
       "ABoost              0.717   0.693      0.715     0.704  0.790\n",
       "GBoost              0.714   0.667      0.723     0.694  0.793\n",
       "XGBoost             0.715   0.662      0.727     0.693  0.801\n",
       "LGBM                0.716   0.669      0.725     0.696  0.802\n",
       "pipe_0              0.699   0.637      0.713     0.673  0.798\n",
       "pipe_RFC            0.717   0.666      0.728     0.695  0.808\n",
       "pipe_RFC_sc_2       0.709   0.648      0.724     0.684  0.805\n",
       "pipe_RFC_select     0.684   0.630      0.692     0.660  0.748\n",
       "pipe_RL             0.684   0.637      0.691     0.663  0.747\n",
       "pipe_RL_CV          0.684   0.634      0.691     0.661  0.746"
      ]
     },
     "execution_count": 103,
     "metadata": {},
     "output_type": "execute_result"
    }
   ],
   "source": [
    "y_pred = pipe_RL_CV.best_estimator_.predict(X_test)\n",
    "y_pred_proba = pipe_RL_CV.best_estimator_.predict_proba(X_test)\n",
    "metricas_modelos('pipe_RL_CV', y_test, y_pred, y_pred_proba)"
   ]
  },
  {
   "cell_type": "code",
   "execution_count": 113,
   "id": "ecb16946",
   "metadata": {},
   "outputs": [
    {
     "name": "stdout",
     "output_type": "stream",
     "text": [
      "Mejor modelo accuracy: Index(['ABoost', 'pipe_RFC'], dtype='object')\n",
      "Mejor modelo recall: Index(['ABoost'], dtype='object')\n",
      "Mejor modelo f1_score: Index(['ABoost'], dtype='object')\n",
      "Mejor modelo precision: Index(['RFC', 'RFC_best'], dtype='object')\n",
      "Mejor modelo AUC: Index(['RFC', 'RFC_best', 'pipe_RFC'], dtype='object')\n"
     ]
    }
   ],
   "source": [
    "mejor_modelo_accuracy = metricas[metricas.accuracy == metricas.accuracy.max()].index\n",
    "mejor_modelo_recall = metricas[metricas.recall == metricas.recall.max()].index\n",
    "mejor_modelo_f1_score = metricas[metricas.f1_score == metricas.f1_score.max()].index\n",
    "mejor_modelo_precision = metricas[metricas.precision == metricas.precision.max()].index\n",
    "mejor_modelo_AUC = metricas[metricas.AUC == metricas.AUC.max()].index\n",
    "print('Mejor modelo accuracy:', mejor_modelo_accuracy)\n",
    "print('Mejor modelo recall:', mejor_modelo_recall)\n",
    "print('Mejor modelo f1_score:', mejor_modelo_f1_score)\n",
    "print('Mejor modelo precision:', mejor_modelo_precision)\n",
    "print('Mejor modelo AUC:', mejor_modelo_AUC)"
   ]
  },
  {
   "cell_type": "code",
   "execution_count": 125,
   "id": "1c4c8e8a",
   "metadata": {},
   "outputs": [
    {
     "name": "stdout",
     "output_type": "stream",
     "text": [
      "Mejor accuracy:\n",
      "pipe_RFC    0.717\n",
      "ABoost      0.717\n",
      "LGBM        0.716\n",
      "XGBoost     0.715\n",
      "Name: accuracy, dtype: float64\n",
      "\n",
      "Mejor recall:\n",
      "ABoost    0.693\n",
      "LGBM      0.669\n",
      "RFECV     0.668\n",
      "GBoost    0.667\n",
      "Name: recall, dtype: float64\n",
      "\n",
      "Mejor f1_score:\n",
      "ABoost      0.704\n",
      "LGBM        0.696\n",
      "pipe_RFC    0.695\n",
      "GBoost      0.694\n",
      "Name: f1_score, dtype: float64\n",
      "\n",
      "Mejor precision:\n",
      "RFC_best    0.731\n",
      "RFC         0.731\n",
      "pipe_RFC    0.728\n",
      "XGBoost     0.727\n",
      "Name: precision, dtype: float64\n",
      "\n",
      "Mejor AUC:\n",
      "pipe_RFC         0.808\n",
      "RFC_best         0.808\n",
      "RFC              0.808\n",
      "pipe_RFC_sc_2    0.805\n",
      "Name: AUC, dtype: float64\n"
     ]
    }
   ],
   "source": [
    "print('Mejor accuracy:')\n",
    "print(metricas.accuracy.sort_values(ascending=False)[0:4])\n",
    "print()\n",
    "print('Mejor recall:')\n",
    "print(metricas.recall.sort_values(ascending=False)[0:4])\n",
    "print()\n",
    "print('Mejor f1_score:')\n",
    "print(metricas.f1_score.sort_values(ascending=False)[0:4])\n",
    "print()\n",
    "print('Mejor precision:')\n",
    "print(metricas.precision.sort_values(ascending=False)[0:4])\n",
    "print()\n",
    "print('Mejor AUC:')\n",
    "print(metricas.AUC.sort_values(ascending=False)[0:4])"
   ]
  },
  {
   "cell_type": "code",
   "execution_count": 135,
   "id": "d23fc694",
   "metadata": {},
   "outputs": [
    {
     "data": {
      "image/png": "[encoded data removed]",
      "text/plain": [
       "<Figure size 432x288 with 1 Axes>"
      ]
     },
     "metadata": {
      "needs_background": "light"
     },
     "output_type": "display_data"
    },
    {
     "data": {
      "image/png": "[encoded data removed]",
      "text/plain": [
       "<Figure size 432x288 with 1 Axes>"
      ]
     },
     "metadata": {
      "needs_background": "light"
     },
     "output_type": "display_data"
    },
    {
     "data": {
      "image/png": "[encoded data removed]",
      "text/plain": [
       "<Figure size 432x288 with 1 Axes>"
      ]
     },
     "metadata": {
      "needs_background": "light"
     },
     "output_type": "display_data"
    },
    {
     "data": {
      "image/png": "[encoded data removed]",
      "text/plain": [
       "<Figure size 432x288 with 1 Axes>"
      ]
     },
     "metadata": {
      "needs_background": "light"
     },
     "output_type": "display_data"
    },
    {
     "data": {
      "image/png": "[encoded data removed]",
      "text/plain": [
       "<Figure size 432x288 with 1 Axes>"
      ]
     },
     "metadata": {
      "needs_background": "light"
     },
     "output_type": "display_data"
    }
   ],
   "source": [
    "for i in metricas.columns:\n",
    "    rdos= metricas[[i]]\n",
    "    rdos['colors']='lightgray'\n",
    "    rdos=rdos.loc[['pipe_RFC','ABoost','LGBM','XGBoost','RFECV','GBoost','RFC_best','RFC','pipe_RFC_sc_2']]\n",
    "    rdos.loc[['RFC', 'RFC_best','pipe_RFC'],'colors']= 'lightgreen'\n",
    "    rdos.loc[['ABoost'],'colors']= 'green'\n",
    "    rdos=rdos.sort_values([i])\n",
    "    plt.barh(width=rdos[i],y=rdos.index,color=rdos.colors)\n",
    "    plt.ylabel('Modelo')\n",
    "    plt.xlabel(i)\n",
    "    t= i + '.jpg'\n",
    "    plt.show()"
   ]
  },
  {
   "cell_type": "markdown",
   "id": "6c4df177",
   "metadata": {},
   "source": [
    "[Volver al índice](#Volver_indice)\n",
    "<a href='#Volver_indice'></a> "
   ]
  },
  {
   "cell_type": "markdown",
   "id": "c3d18378",
   "metadata": {},
   "source": [
    "<a id='section6'></a>\n",
    "### Sección 6\n"
   ]
  },
  {
   "cell_type": "markdown",
   "id": "8cee1c5d",
   "metadata": {},
   "source": [
    "***Deploy de modelos***"
   ]
  },
  {
   "cell_type": "code",
   "execution_count": 126,
   "id": "68e4f801",
   "metadata": {},
   "outputs": [
    {
     "data": {
      "text/plain": [
       "(8045, 16)"
      ]
     },
     "execution_count": 126,
     "metadata": {},
     "output_type": "execute_result"
    }
   ],
   "source": [
    "df.shape"
   ]
  },
  {
   "cell_type": "code",
   "execution_count": 127,
   "id": "744f87a6",
   "metadata": {},
   "outputs": [],
   "source": [
    "X=df.drop('HIPERTENSION_SI',axis=1)\n",
    "y=df.HIPERTENSION_SI"
   ]
  },
  {
   "cell_type": "code",
   "execution_count": 128,
   "id": "d7910f2f",
   "metadata": {},
   "outputs": [],
   "source": [
    "scaler = StandardScaler()\n",
    "X_train, X_test, y_train, y_test = train_test_split(X, y,test_size=0.15,stratify=y, random_state=0)\n",
    "X_train_sc = scaler.fit_transform(X_train)\n",
    "X_test_sc= scaler.transform(X_test)"
   ]
  },
  {
   "cell_type": "code",
   "execution_count": 129,
   "id": "61b73cd7",
   "metadata": {},
   "outputs": [],
   "source": [
    "with open('ABoost.pkl', 'wb') as f_ABoost:\n",
    "    pickle.dump(ABoost, f_ABoost)"
   ]
  },
  {
   "cell_type": "code",
   "execution_count": 130,
   "id": "eb82fa4d",
   "metadata": {},
   "outputs": [
    {
     "data": {
      "text/plain": [
       "['ABoost.pkl', 'pipe.pkl', 'RFC.pkl']"
      ]
     },
     "execution_count": 130,
     "metadata": {},
     "output_type": "execute_result"
    }
   ],
   "source": [
    "[x for x in os.listdir() if 'pkl' in x]"
   ]
  },
  {
   "cell_type": "code",
   "execution_count": 132,
   "id": "e1773fb4",
   "metadata": {},
   "outputs": [],
   "source": [
    "with open('./ABoost.pkl', 'rb') as f_ABoost:\n",
    "        modelo_ABoost = pickle.load(f_ABoost)"
   ]
  },
  {
   "cell_type": "code",
   "execution_count": 133,
   "id": "bd59f32e",
   "metadata": {},
   "outputs": [
    {
     "data": {
      "text/plain": [
       "predicción\n",
       "0             639\n",
       "1             568\n",
       "dtype: int64"
      ]
     },
     "execution_count": 133,
     "metadata": {},
     "output_type": "execute_result"
    }
   ],
   "source": [
    "y_pred=modelo_ABoost.predict(X_test_sc)\n",
    "type(y_pred)\n",
    "resultados=pd.DataFrame(y_pred,columns=['predicción'])\n",
    "resultados.value_counts()"
   ]
  },
  {
   "cell_type": "code",
   "execution_count": null,
   "id": "c6309724",
   "metadata": {},
   "outputs": [],
   "source": []
  },
  {
   "cell_type": "markdown",
   "id": "47d80b11",
   "metadata": {},
   "source": [
    "[Volver al índice](#Volver_indice)\n",
    "<a href='#Volver_indice'></a> "
   ]
  },
  {
   "cell_type": "markdown",
   "id": "4b74dd8a",
   "metadata": {},
   "source": [
    "<a id='section7'></a>\n",
    "### Sección 7\n"
   ]
  },
  {
   "cell_type": "markdown",
   "id": "6b4b6550",
   "metadata": {},
   "source": [
    "***Conclusiones***"
   ]
  },
  {
   "cell_type": "markdown",
   "id": "e06e5cff",
   "metadata": {},
   "source": [
    "1. Se trabajó con la franja etaria de 40 o más años para la predicción de riesgo de hipertensión. Se seleccionaron columnas predictoras en base a publicaciones del tema.\n",
    "2. El dataset contaba originalmente con casi 60000 registros, al filtrar quedamos para trabajar con un dataset de alrededor de 8000 registros.\n",
    "3. Se analizaron 3 modelos de ensamble com RandomForest con diferentes implementaciones (seleccion de variables predictoras).\n",
    "4. Se analizaron 4 modelos de boosting con árboles de decisión cmo estimadores primarios.\n",
    "5. Se armaron 6 implementaciones con pipelines de menor a moyor complejidad, incluyendo feature engineering, escalados de distinto tipo, con RandomForest y RegresionLogistica, y además GridSearchCV.\n",
    "6. Los mejores modelos resultaron, segun las métricas consideradas:\n",
    "* Mejor accuracy: AdaBoost (0.717 %)\n",
    "* Mejor recall: AdaBoost (0.693 %)\n",
    "* Mejor f1_score: AdaBoost (0.704 %)\n",
    "* Mejor precisión: RFC (0.731 %)\n",
    "* Mejor AUC: RFC (0.808 %)\n",
    "7. Si se restringe la franja etaria, en otras corridas, se pudo ver que la exactitud (accuracy) de las predicciones de los modelos mejora mientras que el recall hace todo lo contrario."
   ]
  },
  {
   "cell_type": "markdown",
   "id": "dd350c4b",
   "metadata": {},
   "source": [
    "[Volver al índice](#Volver_indice)\n",
    "<a href='#Volver_indice'></a> "
   ]
  }
 ],
 "metadata": {
  "interpreter": {
   "hash": "7177064ef8fbeae9f5cfc6c12cb517fa4072247ee81065b212f8ba034f80ec0a"
  },
  "kernelspec": {
   "display_name": "Python 3 (ipykernel)",
   "language": "python",
   "name": "python3"
  },
  "language_info": {
   "codemirror_mode": {
    "name": "ipython",
    "version": 3
   },
   "file_extension": ".py",
   "mimetype": "text/x-python",
   "name": "python",
   "nbconvert_exporter": "python",
   "pygments_lexer": "ipython3",
   "version": "3.8.12"
  },
  "widgets": {
   "application/vnd.jupyter.widget-state+json": {
    "state": {},
    "version_major": 2,
    "version_minor": 0
   }
  }
 },
 "nbformat": 4,
 "nbformat_minor": 5
}
